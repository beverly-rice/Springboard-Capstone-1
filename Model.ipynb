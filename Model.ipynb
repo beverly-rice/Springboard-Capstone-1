{
 "cells": [
  {
   "cell_type": "code",
   "execution_count": 3,
   "metadata": {},
   "outputs": [],
   "source": [
    "import pandas as pd\n",
    "import numpy as np\n",
    "import matplotlib.pyplot as plt\n",
    "import seaborn as sns\n",
    "\n",
    "from sklearn.preprocessing import LabelEncoder\n",
    "from sklearn.model_selection import train_test_split\n",
    "from sklearn.ensemble import RandomForestClassifier\n",
    "from sklearn.metrics import accuracy_score\n",
    "from sklearn.metrics import confusion_matrix\n",
    "from sklearn.metrics import roc_curve\n",
    "import matplotlib\n",
    "\n",
    "from IPython.display import display, HTML\n",
    "\n",
    "from sklearn.metrics import roc_auc_score\n",
    "from sklearn.metrics import classification_report\n",
    "\n",
    "from sklearn import model_selection\n",
    "from sklearn.model_selection import cross_val_score"
   ]
  },
  {
   "cell_type": "code",
   "execution_count": 4,
   "metadata": {},
   "outputs": [],
   "source": [
    "model1_path = '/Users/Pewelix/Documents/Data_Science/KKBox_Challenge/modelling1.csv'\n",
    "m = pd.read_csv(model1_path)"
   ]
  },
  {
   "cell_type": "code",
   "execution_count": 5,
   "metadata": {},
   "outputs": [
    {
     "name": "stdout",
     "output_type": "stream",
     "text": [
      "<class 'pandas.core.frame.DataFrame'>\n",
      "RangeIndex: 723967 entries, 0 to 723966\n",
      "Data columns (total 39 columns):\n",
      "Unnamed: 0                723967 non-null int64\n",
      "msno                      723967 non-null object\n",
      "is_churn                  723967 non-null int64\n",
      "city                      723967 non-null int64\n",
      "registered_via            723967 non-null int64\n",
      "registration_init_time    723967 non-null object\n",
      "payment_method_id         723967 non-null int64\n",
      "payment_plan_days         723967 non-null int64\n",
      "plan_list_price           723967 non-null int64\n",
      "actual_amount_paid        723967 non-null int64\n",
      "is_auto_renew             723967 non-null int64\n",
      "transaction_date          723967 non-null object\n",
      "membership_expire_date    723967 non-null object\n",
      "is_cancel                 723967 non-null int64\n",
      "transaction_count         723967 non-null int64\n",
      "methods_used              723967 non-null int64\n",
      "plans_used                723967 non-null int64\n",
      "discount                  723967 non-null int64\n",
      "percent_off               723967 non-null float64\n",
      "mbr_time                  723967 non-null int64\n",
      "date                      723967 non-null object\n",
      "log_count                 723967 non-null float64\n",
      "march_25                  723967 non-null float64\n",
      "march_50                  723967 non-null float64\n",
      "march_75                  723967 non-null float64\n",
      "march_985                 723967 non-null float64\n",
      "march_100                 723967 non-null float64\n",
      "less_50                   723967 non-null float64\n",
      "less_100                  723967 non-null float64\n",
      "march_unq                 723967 non-null float64\n",
      "march_total_songs         723967 non-null float64\n",
      "march_total_secs          723967 non-null float64\n",
      "repeated_songs            723967 non-null float64\n",
      "avg_unq_songs             723967 non-null float64\n",
      "p_less_50                 723967 non-null float64\n",
      "p_less_100                723967 non-null float64\n",
      "total_secs_march          723967 non-null float64\n",
      "slope_total_songs         723967 non-null int64\n",
      "slope_total_secs          723967 non-null int64\n",
      "dtypes: float64(17), int64(17), object(5)\n",
      "memory usage: 215.4+ MB\n"
     ]
    }
   ],
   "source": [
    "m.info()"
   ]
  },
  {
   "cell_type": "code",
   "execution_count": 6,
   "metadata": {
    "collapsed": true
   },
   "outputs": [],
   "source": [
    "del m['Unnamed: 0']"
   ]
  },
  {
   "cell_type": "code",
   "execution_count": 7,
   "metadata": {
    "collapsed": true
   },
   "outputs": [],
   "source": [
    "features = m.drop(['is_churn'], axis=1).columns\n",
    "\n",
    "for var in features:\n",
    "    number = LabelEncoder()\n",
    "    m[var] = number.fit_transform(m[var].astype('str'))\n",
    "\n",
    "y = m['is_churn']\n",
    "X = m[features] "
   ]
  },
  {
   "cell_type": "code",
   "execution_count": 8,
   "metadata": {
    "collapsed": true
   },
   "outputs": [],
   "source": [
    "X_train, X_test, y_train, y_test = train_test_split(X, y, test_size=0.2, random_state=0)"
   ]
  },
  {
   "cell_type": "code",
   "execution_count": 9,
   "metadata": {},
   "outputs": [
    {
     "data": {
      "text/plain": [
       "RandomForestClassifier(bootstrap=True, class_weight=None, criterion='gini',\n",
       "            max_depth=None, max_features='auto', max_leaf_nodes=None,\n",
       "            min_impurity_decrease=0.0, min_impurity_split=None,\n",
       "            min_samples_leaf=1, min_samples_split=2,\n",
       "            min_weight_fraction_leaf=0.0, n_estimators=50, n_jobs=1,\n",
       "            oob_score=False, random_state=None, verbose=0,\n",
       "            warm_start=False)"
      ]
     },
     "execution_count": 9,
     "metadata": {},
     "output_type": "execute_result"
    }
   ],
   "source": [
    "rf = RandomForestClassifier(n_estimators=50)\n",
    "rf.fit(X_train, y_train)"
   ]
  },
  {
   "cell_type": "code",
   "execution_count": 10,
   "metadata": {},
   "outputs": [
    {
     "name": "stdout",
     "output_type": "stream",
     "text": [
      "Random Forest Accuracy: 0.98\n"
     ]
    }
   ],
   "source": [
    "print('Random Forest Accuracy: {:.2f}'.format(accuracy_score(y_test, rf.predict(X_test))))"
   ]
  },
  {
   "cell_type": "code",
   "execution_count": 11,
   "metadata": {
    "collapsed": true
   },
   "outputs": [],
   "source": [
    "predictions = rf.predict(X_test)\n",
    "probs = rf.predict_proba(X_test)"
   ]
  },
  {
   "cell_type": "code",
   "execution_count": 12,
   "metadata": {},
   "outputs": [
    {
     "data": {
      "text/html": [
       "<div>\n",
       "<style>\n",
       "    .dataframe thead tr:only-child th {\n",
       "        text-align: right;\n",
       "    }\n",
       "\n",
       "    .dataframe thead th {\n",
       "        text-align: left;\n",
       "    }\n",
       "\n",
       "    .dataframe tbody tr th {\n",
       "        vertical-align: top;\n",
       "    }\n",
       "</style>\n",
       "<table border=\"1\" class=\"dataframe\">\n",
       "  <thead>\n",
       "    <tr style=\"text-align: right;\">\n",
       "      <th></th>\n",
       "      <th>Predicted False</th>\n",
       "      <th>Predicted True</th>\n",
       "    </tr>\n",
       "  </thead>\n",
       "  <tbody>\n",
       "    <tr>\n",
       "      <th>Actual False</th>\n",
       "      <td>135270</td>\n",
       "      <td>523</td>\n",
       "    </tr>\n",
       "    <tr>\n",
       "      <th>Actual True</th>\n",
       "      <td>2124</td>\n",
       "      <td>6877</td>\n",
       "    </tr>\n",
       "  </tbody>\n",
       "</table>\n",
       "</div>"
      ],
      "text/plain": [
       "              Predicted False  Predicted True\n",
       "Actual False           135270             523\n",
       "Actual True              2124            6877"
      ]
     },
     "metadata": {},
     "output_type": "display_data"
    },
    {
     "data": {
      "image/png": "[encoded data removed]",
      "text/plain": [
       "<matplotlib.figure.Figure at 0x1a151f71d0>"
      ]
     },
     "metadata": {},
     "output_type": "display_data"
    }
   ],
   "source": [
    "get_ipython().magic('matplotlib inline')\n",
    "confusion_matrix = pd.DataFrame(\n",
    "    confusion_matrix(y_test, predictions), \n",
    "    columns=[\"Predicted False\", \"Predicted True\"], \n",
    "    index=[\"Actual False\", \"Actual True\"]\n",
    ")\n",
    "display(confusion_matrix)\n",
    "\n",
    "# Calculate the fpr and tpr for all thresholds of the classification\n",
    "fpr, tpr, threshold = roc_curve(y_test, probs[:,1])\n",
    "plt.title('Receiver Operating Characteristic')\n",
    "plt.plot(fpr, tpr, 'b')\n",
    "plt.plot([0, 1], [0, 1],'r--')\n",
    "plt.xlim([0, 1])\n",
    "plt.ylim([0, 1])\n",
    "plt.ylabel('True Positive Rate')\n",
    "plt.xlabel('False Positive Rate')\n",
    "plt.show()"
   ]
  },
  {
   "cell_type": "code",
   "execution_count": 15,
   "metadata": {},
   "outputs": [
    {
     "name": "stdout",
     "output_type": "stream",
     "text": [
      "0.88008738447\n"
     ]
    }
   ],
   "source": [
    "rf_roc_auc = roc_auc_score(y_test, rf.predict(X_test))\n",
    "print(rf_roc_auc)"
   ]
  },
  {
   "cell_type": "code",
   "execution_count": 16,
   "metadata": {},
   "outputs": [
    {
     "name": "stdout",
     "output_type": "stream",
     "text": [
      "10-fold cross validation average accuracy: 0.98\n"
     ]
    }
   ],
   "source": [
    "kfold = model_selection.KFold(n_splits=10, random_state=7)\n",
    "modelCV = RandomForestClassifier()\n",
    "scoring = 'accuracy'\n",
    "results = model_selection.cross_val_score(modelCV, X_train, y_train, cv=kfold, scoring=scoring)\n",
    "print(\"10-fold cross validation average accuracy: %.2f\" % (results.mean()))"
   ]
  },
  {
   "cell_type": "code",
   "execution_count": 17,
   "metadata": {},
   "outputs": [
    {
     "name": "stdout",
     "output_type": "stream",
     "text": [
      "             precision    recall  f1-score   support\n",
      "\n",
      "          0       0.98      1.00      0.99    135793\n",
      "          1       0.93      0.76      0.84      9001\n",
      "\n",
      "avg / total       0.98      0.98      0.98    144794\n",
      "\n"
     ]
    }
   ],
   "source": [
    "print(classification_report(y_test, rf.predict(X_test)))\n",
    "#Precision is the ratio of correctly predicted positive observations to the total predicted positive observations; Precision = TP/TP+FP\n",
    "#Recall is the ratio of correctly predicted positive observations to the all observations in actual class; Recall = TP/TP+FN\n",
    "#F1 Score is the weighted average of Precision and Recall\n",
    "#the number of true instances for each label"
   ]
  },
  {
   "cell_type": "code",
   "execution_count": 18,
   "metadata": {},
   "outputs": [
    {
     "data": {
      "image/png": "[encoded data removed]",
      "text/plain": [
       "<matplotlib.figure.Figure at 0x1a1c5f0ac8>"
      ]
     },
     "metadata": {},
     "output_type": "display_data"
    }
   ],
   "source": [
    "from sklearn.metrics import confusion_matrix\n",
    "\n",
    "y_pred = rf.predict(X_test)\n",
    "\n",
    "forest_cm = confusion_matrix(y_pred, y_test, [1,0])\n",
    "\n",
    "sns.heatmap(forest_cm, annot=True, fmt='.2f',xticklabels = [\"Left\", \"Stayed\"] , yticklabels = [\"Left\", \"Stayed\"] )\n",
    "plt.ylabel('True class')\n",
    "plt.xlabel('Predicted class')\n",
    "plt.title('Random Forest')\n",
    "plt.savefig('random_forest')"
   ]
  },
  {
   "cell_type": "code",
   "execution_count": 19,
   "metadata": {},
   "outputs": [
    {
     "data": {
      "image/png": "[encoded data removed]",
      "text/plain": [
       "<matplotlib.figure.Figure at 0x1a18a3f630>"
      ]
     },
     "metadata": {},
     "output_type": "display_data"
    }
   ],
   "source": [
    "fig = plt.figure(figsize=(5,10))\n",
    "ax = fig.add_subplot(111)\n",
    "\n",
    "df = pd.DataFrame(rf.feature_importances_, columns=[\"Importance\"])\n",
    "df[\"Variables\"] = features\n",
    "df.sort_values(\"Importance\", inplace=True, ascending=False)\n",
    "\n",
    "index = np.arange(len(rf.feature_importances_))\n",
    "bar_width = 0.5\n",
    "rects = plt.barh(index, df[\"Importance\"], label='Main')\n",
    "plt.title('Feature Importance')\n",
    "plt.yticks(index, df[\"Variables\"])\n",
    "plt.xlabel(\"Importance\")\n",
    "plt.ylabel(\"Variables\")\n",
    "\n",
    "plt.show()"
   ]
  },
  {
   "cell_type": "code",
   "execution_count": 20,
   "metadata": {},
   "outputs": [
    {
     "name": "stdout",
     "output_type": "stream",
     "text": [
      "percent_off-0.19%\n",
      "discount-0.31%\n",
      "methods_used-0.38%\n",
      "slope_total_songs-0.40%\n",
      "registered_via-0.69%\n",
      "slope_total_secs-0.92%\n",
      "log_count-1.03%\n",
      "p_less_50-1.03%\n",
      "plans_used-1.06%\n",
      "p_less_100-1.07%\n",
      "march_75-1.07%\n",
      "avg_unq_songs-1.11%\n",
      "march_985-1.11%\n",
      "city-1.13%\n",
      "march_50-1.16%\n",
      "less_50-1.21%\n",
      "less_100-1.24%\n",
      "march_25-1.24%\n",
      "march_100-1.31%\n",
      "total_secs_march-1.33%\n",
      "march_total_songs-1.35%\n",
      "march_unq-1.35%\n",
      "march_total_secs-1.36%\n",
      "repeated_songs-1.36%\n",
      "msno-1.50%\n",
      "mbr_time-1.90%\n",
      "registration_init_time-2.14%\n",
      "date-2.19%\n",
      "plan_list_price-2.54%\n",
      "actual_amount_paid-3.12%\n",
      "payment_method_id-3.30%\n",
      "is_auto_renew-3.49%\n",
      "transaction_count-5.37%\n",
      "is_cancel-6.68%\n",
      "payment_plan_days-8.80%\n",
      "transaction_date-11.46%\n",
      "membership_expire_date-23.12%\n"
     ]
    }
   ],
   "source": [
    "feature_labels = features\n",
    "importance = rf.feature_importances_\n",
    "feature_indexes_by_importance = importance.argsort()\n",
    "for index in feature_indexes_by_importance:\n",
    "    print('{}-{:.2f}%'.format(feature_labels[index], (importance[index] *100.0)))"
   ]
  }
 ],
 "metadata": {
  "kernelspec": {
   "display_name": "Python 3",
   "language": "python",
   "name": "python3"
  },
  "language_info": {
   "codemirror_mode": {
    "name": "ipython",
    "version": 3
   },
   "file_extension": ".py",
   "mimetype": "text/x-python",
   "name": "python",
   "nbconvert_exporter": "python",
   "pygments_lexer": "ipython3",
   "version": "3.6.2"
  }
 },
 "nbformat": 4,
 "nbformat_minor": 2
}
