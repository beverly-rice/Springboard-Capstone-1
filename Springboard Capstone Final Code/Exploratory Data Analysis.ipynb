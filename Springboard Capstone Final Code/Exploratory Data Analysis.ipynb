{
 "cells": [
  {
   "cell_type": "code",
   "execution_count": 1,
   "metadata": {
    "collapsed": true
   },
   "outputs": [],
   "source": [
    "import pandas as pd\n",
    "import numpy as np\n",
    "import matplotlib.pyplot as plt"
   ]
  },
  {
   "cell_type": "code",
   "execution_count": 2,
   "metadata": {
    "collapsed": true
   },
   "outputs": [],
   "source": [
    "train_path = '/Users/Pewelix/Documents/Data_Science/KKBox_Challenge/train_v2.csv'\n",
    "trn = pd.read_csv(train_path)"
   ]
  },
  {
   "cell_type": "code",
   "execution_count": 3,
   "metadata": {},
   "outputs": [
    {
     "name": "stdout",
     "output_type": "stream",
     "text": [
      "<class 'pandas.core.frame.DataFrame'>\n",
      "RangeIndex: 970960 entries, 0 to 970959\n",
      "Data columns (total 2 columns):\n",
      "msno        970960 non-null object\n",
      "is_churn    970960 non-null int64\n",
      "dtypes: int64(1), object(1)\n",
      "memory usage: 14.8+ MB\n"
     ]
    }
   ],
   "source": [
    "trn.info()"
   ]
  },
  {
   "cell_type": "code",
   "execution_count": 4,
   "metadata": {},
   "outputs": [
    {
     "data": {
      "text/html": [
       "<div>\n",
       "<style>\n",
       "    .dataframe thead tr:only-child th {\n",
       "        text-align: right;\n",
       "    }\n",
       "\n",
       "    .dataframe thead th {\n",
       "        text-align: left;\n",
       "    }\n",
       "\n",
       "    .dataframe tbody tr th {\n",
       "        vertical-align: top;\n",
       "    }\n",
       "</style>\n",
       "<table border=\"1\" class=\"dataframe\">\n",
       "  <thead>\n",
       "    <tr style=\"text-align: right;\">\n",
       "      <th></th>\n",
       "      <th>is_churn</th>\n",
       "    </tr>\n",
       "  </thead>\n",
       "  <tbody>\n",
       "    <tr>\n",
       "      <th>count</th>\n",
       "      <td>970960.000000</td>\n",
       "    </tr>\n",
       "    <tr>\n",
       "      <th>mean</th>\n",
       "      <td>0.089942</td>\n",
       "    </tr>\n",
       "    <tr>\n",
       "      <th>std</th>\n",
       "      <td>0.286099</td>\n",
       "    </tr>\n",
       "    <tr>\n",
       "      <th>min</th>\n",
       "      <td>0.000000</td>\n",
       "    </tr>\n",
       "    <tr>\n",
       "      <th>25%</th>\n",
       "      <td>0.000000</td>\n",
       "    </tr>\n",
       "    <tr>\n",
       "      <th>50%</th>\n",
       "      <td>0.000000</td>\n",
       "    </tr>\n",
       "    <tr>\n",
       "      <th>75%</th>\n",
       "      <td>0.000000</td>\n",
       "    </tr>\n",
       "    <tr>\n",
       "      <th>max</th>\n",
       "      <td>1.000000</td>\n",
       "    </tr>\n",
       "  </tbody>\n",
       "</table>\n",
       "</div>"
      ],
      "text/plain": [
       "            is_churn\n",
       "count  970960.000000\n",
       "mean        0.089942\n",
       "std         0.286099\n",
       "min         0.000000\n",
       "25%         0.000000\n",
       "50%         0.000000\n",
       "75%         0.000000\n",
       "max         1.000000"
      ]
     },
     "execution_count": 4,
     "metadata": {},
     "output_type": "execute_result"
    }
   ],
   "source": [
    "trn.describe()"
   ]
  },
  {
   "cell_type": "code",
   "execution_count": 5,
   "metadata": {},
   "outputs": [
    {
     "data": {
      "text/plain": [
       "Index(['msno', 'is_churn'], dtype='object')"
      ]
     },
     "execution_count": 5,
     "metadata": {},
     "output_type": "execute_result"
    }
   ],
   "source": [
    "trn.columns"
   ]
  },
  {
   "cell_type": "code",
   "execution_count": 6,
   "metadata": {},
   "outputs": [
    {
     "data": {
      "text/plain": [
       "0"
      ]
     },
     "execution_count": 6,
     "metadata": {},
     "output_type": "execute_result"
    }
   ],
   "source": [
    "trn.duplicated().sum()"
   ]
  },
  {
   "cell_type": "code",
   "execution_count": 7,
   "metadata": {},
   "outputs": [
    {
     "data": {
      "text/html": [
       "<div>\n",
       "<style>\n",
       "    .dataframe thead tr:only-child th {\n",
       "        text-align: right;\n",
       "    }\n",
       "\n",
       "    .dataframe thead th {\n",
       "        text-align: left;\n",
       "    }\n",
       "\n",
       "    .dataframe tbody tr th {\n",
       "        vertical-align: top;\n",
       "    }\n",
       "</style>\n",
       "<table border=\"1\" class=\"dataframe\">\n",
       "  <thead>\n",
       "    <tr style=\"text-align: right;\">\n",
       "      <th></th>\n",
       "      <th>msno</th>\n",
       "      <th>is_churn</th>\n",
       "    </tr>\n",
       "  </thead>\n",
       "  <tbody>\n",
       "    <tr>\n",
       "      <th>0</th>\n",
       "      <td>ugx0CjOMzazClkFzU2xasmDZaoIqOUAZPsH1q0teWCg=</td>\n",
       "      <td>1</td>\n",
       "    </tr>\n",
       "    <tr>\n",
       "      <th>1</th>\n",
       "      <td>f/NmvEzHfhINFEYZTR05prUdr+E+3+oewvweYz9cCQE=</td>\n",
       "      <td>1</td>\n",
       "    </tr>\n",
       "    <tr>\n",
       "      <th>2</th>\n",
       "      <td>zLo9f73nGGT1p21ltZC3ChiRnAVvgibMyazbCxvWPcg=</td>\n",
       "      <td>1</td>\n",
       "    </tr>\n",
       "    <tr>\n",
       "      <th>3</th>\n",
       "      <td>8iF/+8HY8lJKFrTc7iR9ZYGCG2Ecrogbc2Vy5YhsfhQ=</td>\n",
       "      <td>1</td>\n",
       "    </tr>\n",
       "    <tr>\n",
       "      <th>4</th>\n",
       "      <td>K6fja4+jmoZ5xG6BypqX80Uw/XKpMgrEMdG2edFOxnA=</td>\n",
       "      <td>1</td>\n",
       "    </tr>\n",
       "  </tbody>\n",
       "</table>\n",
       "</div>"
      ],
      "text/plain": [
       "                                           msno  is_churn\n",
       "0  ugx0CjOMzazClkFzU2xasmDZaoIqOUAZPsH1q0teWCg=         1\n",
       "1  f/NmvEzHfhINFEYZTR05prUdr+E+3+oewvweYz9cCQE=         1\n",
       "2  zLo9f73nGGT1p21ltZC3ChiRnAVvgibMyazbCxvWPcg=         1\n",
       "3  8iF/+8HY8lJKFrTc7iR9ZYGCG2Ecrogbc2Vy5YhsfhQ=         1\n",
       "4  K6fja4+jmoZ5xG6BypqX80Uw/XKpMgrEMdG2edFOxnA=         1"
      ]
     },
     "execution_count": 7,
     "metadata": {},
     "output_type": "execute_result"
    }
   ],
   "source": [
    "trn.head()"
   ]
  },
  {
   "cell_type": "code",
   "execution_count": 8,
   "metadata": {},
   "outputs": [
    {
     "data": {
      "text/plain": [
       "count                                           970960\n",
       "unique                                          970960\n",
       "top       qWWZz4GFp1CZUSeJSgTnJp5vDLCfVEm3cyccD4zn+lk=\n",
       "freq                                                 1\n",
       "Name: msno, dtype: object"
      ]
     },
     "execution_count": 8,
     "metadata": {},
     "output_type": "execute_result"
    }
   ],
   "source": [
    "trn['msno'].describe()"
   ]
  },
  {
   "cell_type": "code",
   "execution_count": 9,
   "metadata": {},
   "outputs": [
    {
     "name": "stdout",
     "output_type": "stream",
     "text": [
      "msno        883630\n",
      "is_churn    883630\n",
      "dtype: int64\n",
      "msno        87330\n",
      "is_churn    87330\n",
      "dtype: int64\n"
     ]
    }
   ],
   "source": [
    "c = trn[trn['is_churn'] == 0]\n",
    "nc = trn[trn['is_churn'] == 1]\n",
    "x = c.count()\n",
    "y = nc.count()\n",
    "print(x)\n",
    "print(y)"
   ]
  },
  {
   "cell_type": "code",
   "execution_count": 10,
   "metadata": {},
   "outputs": [
    {
     "data": {
      "image/png": "[encoded data removed]",
      "text/plain": [
       "<matplotlib.figure.Figure at 0x107f0e898>"
      ]
     },
     "metadata": {},
     "output_type": "display_data"
    }
   ],
   "source": [
    "N=2\n",
    "ind = np.arange(N)\n",
    "y=[883630, 87330]\n",
    "graph = plt.bar(ind, y)\n",
    "plt.xticks([0,1])\n",
    "graph[0].set_color('b')\n",
    "graph[1].set_color('r')\n",
    "plt.xlabel('Churn')\n",
    "plt.ylabel('Count')\n",
    "plt.title('Overall Churn')\n",
    "plt.show()"
   ]
  },
  {
   "cell_type": "code",
   "execution_count": 11,
   "metadata": {
    "collapsed": true
   },
   "outputs": [],
   "source": [
    "members_path = '/Users/Pewelix/Documents/Data_Science/KKBox_Challenge/members_v3.csv'\n",
    "mbrs = pd.read_csv(members_path)"
   ]
  },
  {
   "cell_type": "code",
   "execution_count": 12,
   "metadata": {},
   "outputs": [
    {
     "name": "stdout",
     "output_type": "stream",
     "text": [
      "<class 'pandas.core.frame.DataFrame'>\n",
      "RangeIndex: 6769473 entries, 0 to 6769472\n",
      "Data columns (total 6 columns):\n",
      "msno                      object\n",
      "city                      int64\n",
      "bd                        int64\n",
      "gender                    object\n",
      "registered_via            int64\n",
      "registration_init_time    int64\n",
      "dtypes: int64(4), object(2)\n",
      "memory usage: 309.9+ MB\n"
     ]
    }
   ],
   "source": [
    "mbrs.info()"
   ]
  },
  {
   "cell_type": "code",
   "execution_count": 13,
   "metadata": {},
   "outputs": [
    {
     "data": {
      "text/html": [
       "<div>\n",
       "<style>\n",
       "    .dataframe thead tr:only-child th {\n",
       "        text-align: right;\n",
       "    }\n",
       "\n",
       "    .dataframe thead th {\n",
       "        text-align: left;\n",
       "    }\n",
       "\n",
       "    .dataframe tbody tr th {\n",
       "        vertical-align: top;\n",
       "    }\n",
       "</style>\n",
       "<table border=\"1\" class=\"dataframe\">\n",
       "  <thead>\n",
       "    <tr style=\"text-align: right;\">\n",
       "      <th></th>\n",
       "      <th>city</th>\n",
       "      <th>bd</th>\n",
       "      <th>registered_via</th>\n",
       "      <th>registration_init_time</th>\n",
       "    </tr>\n",
       "  </thead>\n",
       "  <tbody>\n",
       "    <tr>\n",
       "      <th>count</th>\n",
       "      <td>6.769473e+06</td>\n",
       "      <td>6.769473e+06</td>\n",
       "      <td>6.769473e+06</td>\n",
       "      <td>6.769473e+06</td>\n",
       "    </tr>\n",
       "    <tr>\n",
       "      <th>mean</th>\n",
       "      <td>3.847358e+00</td>\n",
       "      <td>9.795794e+00</td>\n",
       "      <td>5.253069e+00</td>\n",
       "      <td>2.014518e+07</td>\n",
       "    </tr>\n",
       "    <tr>\n",
       "      <th>std</th>\n",
       "      <td>5.478359e+00</td>\n",
       "      <td>1.792590e+01</td>\n",
       "      <td>2.361398e+00</td>\n",
       "      <td>2.318601e+04</td>\n",
       "    </tr>\n",
       "    <tr>\n",
       "      <th>min</th>\n",
       "      <td>1.000000e+00</td>\n",
       "      <td>-7.168000e+03</td>\n",
       "      <td>-1.000000e+00</td>\n",
       "      <td>2.004033e+07</td>\n",
       "    </tr>\n",
       "    <tr>\n",
       "      <th>25%</th>\n",
       "      <td>1.000000e+00</td>\n",
       "      <td>0.000000e+00</td>\n",
       "      <td>4.000000e+00</td>\n",
       "      <td>2.014042e+07</td>\n",
       "    </tr>\n",
       "    <tr>\n",
       "      <th>50%</th>\n",
       "      <td>1.000000e+00</td>\n",
       "      <td>0.000000e+00</td>\n",
       "      <td>4.000000e+00</td>\n",
       "      <td>2.015101e+07</td>\n",
       "    </tr>\n",
       "    <tr>\n",
       "      <th>75%</th>\n",
       "      <td>4.000000e+00</td>\n",
       "      <td>2.100000e+01</td>\n",
       "      <td>7.000000e+00</td>\n",
       "      <td>2.016060e+07</td>\n",
       "    </tr>\n",
       "    <tr>\n",
       "      <th>max</th>\n",
       "      <td>2.200000e+01</td>\n",
       "      <td>2.016000e+03</td>\n",
       "      <td>1.900000e+01</td>\n",
       "      <td>2.017043e+07</td>\n",
       "    </tr>\n",
       "  </tbody>\n",
       "</table>\n",
       "</div>"
      ],
      "text/plain": [
       "               city            bd  registered_via  registration_init_time\n",
       "count  6.769473e+06  6.769473e+06    6.769473e+06            6.769473e+06\n",
       "mean   3.847358e+00  9.795794e+00    5.253069e+00            2.014518e+07\n",
       "std    5.478359e+00  1.792590e+01    2.361398e+00            2.318601e+04\n",
       "min    1.000000e+00 -7.168000e+03   -1.000000e+00            2.004033e+07\n",
       "25%    1.000000e+00  0.000000e+00    4.000000e+00            2.014042e+07\n",
       "50%    1.000000e+00  0.000000e+00    4.000000e+00            2.015101e+07\n",
       "75%    4.000000e+00  2.100000e+01    7.000000e+00            2.016060e+07\n",
       "max    2.200000e+01  2.016000e+03    1.900000e+01            2.017043e+07"
      ]
     },
     "execution_count": 13,
     "metadata": {},
     "output_type": "execute_result"
    }
   ],
   "source": [
    "mbrs.describe()"
   ]
  },
  {
   "cell_type": "code",
   "execution_count": 14,
   "metadata": {},
   "outputs": [
    {
     "data": {
      "text/plain": [
       "Index(['msno', 'city', 'bd', 'gender', 'registered_via',\n",
       "       'registration_init_time'],\n",
       "      dtype='object')"
      ]
     },
     "execution_count": 14,
     "metadata": {},
     "output_type": "execute_result"
    }
   ],
   "source": [
    "mbrs.columns"
   ]
  },
  {
   "cell_type": "code",
   "execution_count": 15,
   "metadata": {},
   "outputs": [
    {
     "data": {
      "text/plain": [
       "msno                            0\n",
       "city                            0\n",
       "bd                              0\n",
       "gender                    4429505\n",
       "registered_via                  0\n",
       "registration_init_time          0\n",
       "dtype: int64"
      ]
     },
     "execution_count": 15,
     "metadata": {},
     "output_type": "execute_result"
    }
   ],
   "source": [
    "mbrs.isnull().sum()"
   ]
  },
  {
   "cell_type": "code",
   "execution_count": 16,
   "metadata": {},
   "outputs": [
    {
     "data": {
      "text/plain": [
       "0"
      ]
     },
     "execution_count": 16,
     "metadata": {},
     "output_type": "execute_result"
    }
   ],
   "source": [
    "mbrs.duplicated().sum()"
   ]
  },
  {
   "cell_type": "code",
   "execution_count": 17,
   "metadata": {},
   "outputs": [
    {
     "data": {
      "text/plain": [
       "(array([ 1,  3,  4,  5,  6,  7,  8,  9, 10, 11, 12, 13, 14, 15, 16, 17, 18,\n",
       "        19, 20, 21, 22]),\n",
       " array([4804326,   27282,  246848,  385069,  135200,   11610,   45975,\n",
       "          47639,   32482,   47489,   66843,  320978,   89940,  190213,\n",
       "           5092,   27772,   38039,    1199,    4233,   30837,  210407]))"
      ]
     },
     "execution_count": 17,
     "metadata": {},
     "output_type": "execute_result"
    }
   ],
   "source": [
    "df = mbrs['city']\n",
    "np.unique(df, return_counts=True)"
   ]
  },
  {
   "cell_type": "code",
   "execution_count": 18,
   "metadata": {
    "collapsed": true
   },
   "outputs": [],
   "source": [
    "df = np.unique(df)"
   ]
  },
  {
   "cell_type": "code",
   "execution_count": 19,
   "metadata": {},
   "outputs": [
    {
     "data": {
      "text/plain": [
       "21"
      ]
     },
     "execution_count": 19,
     "metadata": {},
     "output_type": "execute_result"
    }
   ],
   "source": [
    "df.size"
   ]
  },
  {
   "cell_type": "code",
   "execution_count": 20,
   "metadata": {},
   "outputs": [
    {
     "data": {
      "text/html": [
       "<div>\n",
       "<style>\n",
       "    .dataframe thead tr:only-child th {\n",
       "        text-align: right;\n",
       "    }\n",
       "\n",
       "    .dataframe thead th {\n",
       "        text-align: left;\n",
       "    }\n",
       "\n",
       "    .dataframe tbody tr th {\n",
       "        vertical-align: top;\n",
       "    }\n",
       "</style>\n",
       "<table border=\"1\" class=\"dataframe\">\n",
       "  <thead>\n",
       "    <tr style=\"text-align: right;\">\n",
       "      <th></th>\n",
       "      <th>msno</th>\n",
       "      <th>bd</th>\n",
       "      <th>gender</th>\n",
       "      <th>registered_via</th>\n",
       "      <th>registration_init_time</th>\n",
       "      <th>ratio</th>\n",
       "    </tr>\n",
       "    <tr>\n",
       "      <th>city</th>\n",
       "      <th></th>\n",
       "      <th></th>\n",
       "      <th></th>\n",
       "      <th></th>\n",
       "      <th></th>\n",
       "      <th></th>\n",
       "    </tr>\n",
       "  </thead>\n",
       "  <tbody>\n",
       "    <tr>\n",
       "      <th>1</th>\n",
       "      <td>4804326</td>\n",
       "      <td>4804326</td>\n",
       "      <td>507108</td>\n",
       "      <td>4804326</td>\n",
       "      <td>4804326</td>\n",
       "      <td>70.97</td>\n",
       "    </tr>\n",
       "    <tr>\n",
       "      <th>3</th>\n",
       "      <td>27282</td>\n",
       "      <td>27282</td>\n",
       "      <td>25690</td>\n",
       "      <td>27282</td>\n",
       "      <td>27282</td>\n",
       "      <td>0.40</td>\n",
       "    </tr>\n",
       "    <tr>\n",
       "      <th>4</th>\n",
       "      <td>246848</td>\n",
       "      <td>246848</td>\n",
       "      <td>232534</td>\n",
       "      <td>246848</td>\n",
       "      <td>246848</td>\n",
       "      <td>3.65</td>\n",
       "    </tr>\n",
       "    <tr>\n",
       "      <th>5</th>\n",
       "      <td>385069</td>\n",
       "      <td>385069</td>\n",
       "      <td>363329</td>\n",
       "      <td>385069</td>\n",
       "      <td>385069</td>\n",
       "      <td>5.69</td>\n",
       "    </tr>\n",
       "    <tr>\n",
       "      <th>6</th>\n",
       "      <td>135200</td>\n",
       "      <td>135200</td>\n",
       "      <td>127668</td>\n",
       "      <td>135200</td>\n",
       "      <td>135200</td>\n",
       "      <td>2.00</td>\n",
       "    </tr>\n",
       "    <tr>\n",
       "      <th>7</th>\n",
       "      <td>11610</td>\n",
       "      <td>11610</td>\n",
       "      <td>10681</td>\n",
       "      <td>11610</td>\n",
       "      <td>11610</td>\n",
       "      <td>0.17</td>\n",
       "    </tr>\n",
       "    <tr>\n",
       "      <th>8</th>\n",
       "      <td>45975</td>\n",
       "      <td>45975</td>\n",
       "      <td>43802</td>\n",
       "      <td>45975</td>\n",
       "      <td>45975</td>\n",
       "      <td>0.68</td>\n",
       "    </tr>\n",
       "    <tr>\n",
       "      <th>9</th>\n",
       "      <td>47639</td>\n",
       "      <td>47639</td>\n",
       "      <td>44254</td>\n",
       "      <td>47639</td>\n",
       "      <td>47639</td>\n",
       "      <td>0.70</td>\n",
       "    </tr>\n",
       "    <tr>\n",
       "      <th>10</th>\n",
       "      <td>32482</td>\n",
       "      <td>32482</td>\n",
       "      <td>30465</td>\n",
       "      <td>32482</td>\n",
       "      <td>32482</td>\n",
       "      <td>0.48</td>\n",
       "    </tr>\n",
       "    <tr>\n",
       "      <th>11</th>\n",
       "      <td>47489</td>\n",
       "      <td>47489</td>\n",
       "      <td>44505</td>\n",
       "      <td>47489</td>\n",
       "      <td>47489</td>\n",
       "      <td>0.70</td>\n",
       "    </tr>\n",
       "    <tr>\n",
       "      <th>12</th>\n",
       "      <td>66843</td>\n",
       "      <td>66843</td>\n",
       "      <td>63409</td>\n",
       "      <td>66843</td>\n",
       "      <td>66843</td>\n",
       "      <td>0.99</td>\n",
       "    </tr>\n",
       "    <tr>\n",
       "      <th>13</th>\n",
       "      <td>320978</td>\n",
       "      <td>320978</td>\n",
       "      <td>288078</td>\n",
       "      <td>320978</td>\n",
       "      <td>320978</td>\n",
       "      <td>4.74</td>\n",
       "    </tr>\n",
       "    <tr>\n",
       "      <th>14</th>\n",
       "      <td>89940</td>\n",
       "      <td>89940</td>\n",
       "      <td>83675</td>\n",
       "      <td>89940</td>\n",
       "      <td>89940</td>\n",
       "      <td>1.33</td>\n",
       "    </tr>\n",
       "    <tr>\n",
       "      <th>15</th>\n",
       "      <td>190213</td>\n",
       "      <td>190213</td>\n",
       "      <td>176188</td>\n",
       "      <td>190213</td>\n",
       "      <td>190213</td>\n",
       "      <td>2.81</td>\n",
       "    </tr>\n",
       "    <tr>\n",
       "      <th>16</th>\n",
       "      <td>5092</td>\n",
       "      <td>5092</td>\n",
       "      <td>4869</td>\n",
       "      <td>5092</td>\n",
       "      <td>5092</td>\n",
       "      <td>0.08</td>\n",
       "    </tr>\n",
       "    <tr>\n",
       "      <th>17</th>\n",
       "      <td>27772</td>\n",
       "      <td>27772</td>\n",
       "      <td>26078</td>\n",
       "      <td>27772</td>\n",
       "      <td>27772</td>\n",
       "      <td>0.41</td>\n",
       "    </tr>\n",
       "    <tr>\n",
       "      <th>18</th>\n",
       "      <td>38039</td>\n",
       "      <td>38039</td>\n",
       "      <td>35623</td>\n",
       "      <td>38039</td>\n",
       "      <td>38039</td>\n",
       "      <td>0.56</td>\n",
       "    </tr>\n",
       "    <tr>\n",
       "      <th>19</th>\n",
       "      <td>1199</td>\n",
       "      <td>1199</td>\n",
       "      <td>1169</td>\n",
       "      <td>1199</td>\n",
       "      <td>1199</td>\n",
       "      <td>0.02</td>\n",
       "    </tr>\n",
       "    <tr>\n",
       "      <th>20</th>\n",
       "      <td>4233</td>\n",
       "      <td>4233</td>\n",
       "      <td>4082</td>\n",
       "      <td>4233</td>\n",
       "      <td>4233</td>\n",
       "      <td>0.06</td>\n",
       "    </tr>\n",
       "    <tr>\n",
       "      <th>21</th>\n",
       "      <td>30837</td>\n",
       "      <td>30837</td>\n",
       "      <td>29286</td>\n",
       "      <td>30837</td>\n",
       "      <td>30837</td>\n",
       "      <td>0.46</td>\n",
       "    </tr>\n",
       "    <tr>\n",
       "      <th>22</th>\n",
       "      <td>210407</td>\n",
       "      <td>210407</td>\n",
       "      <td>197475</td>\n",
       "      <td>210407</td>\n",
       "      <td>210407</td>\n",
       "      <td>3.11</td>\n",
       "    </tr>\n",
       "  </tbody>\n",
       "</table>\n",
       "</div>"
      ],
      "text/plain": [
       "         msno       bd  gender  registered_via  registration_init_time  ratio\n",
       "city                                                                         \n",
       "1     4804326  4804326  507108         4804326                 4804326  70.97\n",
       "3       27282    27282   25690           27282                   27282   0.40\n",
       "4      246848   246848  232534          246848                  246848   3.65\n",
       "5      385069   385069  363329          385069                  385069   5.69\n",
       "6      135200   135200  127668          135200                  135200   2.00\n",
       "7       11610    11610   10681           11610                   11610   0.17\n",
       "8       45975    45975   43802           45975                   45975   0.68\n",
       "9       47639    47639   44254           47639                   47639   0.70\n",
       "10      32482    32482   30465           32482                   32482   0.48\n",
       "11      47489    47489   44505           47489                   47489   0.70\n",
       "12      66843    66843   63409           66843                   66843   0.99\n",
       "13     320978   320978  288078          320978                  320978   4.74\n",
       "14      89940    89940   83675           89940                   89940   1.33\n",
       "15     190213   190213  176188          190213                  190213   2.81\n",
       "16       5092     5092    4869            5092                    5092   0.08\n",
       "17      27772    27772   26078           27772                   27772   0.41\n",
       "18      38039    38039   35623           38039                   38039   0.56\n",
       "19       1199     1199    1169            1199                    1199   0.02\n",
       "20       4233     4233    4082            4233                    4233   0.06\n",
       "21      30837    30837   29286           30837                   30837   0.46\n",
       "22     210407   210407  197475          210407                  210407   3.11"
      ]
     },
     "execution_count": 20,
     "metadata": {},
     "output_type": "execute_result"
    }
   ],
   "source": [
    "city = mbrs.groupby('city').agg('count')\n",
    "city['ratio'] = round((city['msno'] / 6769473) * 100, 2)\n",
    "city"
   ]
  },
  {
   "cell_type": "code",
   "execution_count": 21,
   "metadata": {},
   "outputs": [
    {
     "data": {
      "image/png": "[encoded data removed]",
      "text/plain": [
       "<matplotlib.figure.Figure at 0x109b4fe10>"
      ]
     },
     "metadata": {},
     "output_type": "display_data"
    }
   ],
   "source": [
    "city['msno'].plot(kind='bar')\n",
    "plt.show()"
   ]
  },
  {
   "cell_type": "code",
   "execution_count": 22,
   "metadata": {},
   "outputs": [
    {
     "name": "stdout",
     "output_type": "stream",
     "text": [
      "[-7168 -6998 -6807 -6445 -5978 -3152 -2828 -1970  -974  -958  -956  -951\n",
      "  -540  -529  -527  -526  -525  -524  -523  -522  -521  -520  -519  -518\n",
      "  -517  -516  -515  -514  -513  -512  -511  -510  -509  -508  -507  -506\n",
      "  -505  -504  -503  -502  -501  -500  -498  -497  -496  -493  -489  -488\n",
      "  -484  -482  -178  -176   -52   -51   -50   -49   -48   -47   -46   -45\n",
      "   -44   -43   -42   -41   -40   -39   -38   -37   -36   -35   -34   -33\n",
      "   -32   -31   -30   -23   -22   -19   -14   -12   -10    -9    -8    -7\n",
      "    -5     0     1     2     3     4     5     6     7     8     9    10\n",
      "    11    12    13    14    15    16    17    18    19    20    21    22\n",
      "    23    24    25    26    27    28    29    30    31    32    33    34\n",
      "    35    36    37    38    39    40    41    42    43    44    45    46\n",
      "    47    48    49    50    51    52    53    54    55    56    57    58\n",
      "    59    60    61    62    63    64    65    66    67    68    69    70\n",
      "    71    72    73    74    75    76    77    78    79    80    81    82\n",
      "    83    84    85    86    87    88    89    90    91    92    93    94\n",
      "    95    96    97    98    99   100   101   102   103   104   105   106\n",
      "   107   108   109   110   111   112   113   114   115   116   117   118\n",
      "   119   120   121   122   123   124   125   126   128   129   130   131\n",
      "   132   133   136   137   138   139   140   141   143   144   148   151\n",
      "   153   155   160   163   164   167   183   197   217   220   222   228\n",
      "   230   231   232   237   240   243   244   265   319   320   321   322\n",
      "   323   327   328   332   334   340   353   357   386   462   519   573\n",
      "   584   649   685   689   743   761   778   783   786   793   806   810\n",
      "   819   820   821   822   823   824   825   826   827   837   906   907\n",
      "   919   920   922   923   924   925   926   928   929   930   931   932\n",
      "   933   934   935   936   937   938   939   940   941   942   943   944\n",
      "   945   946   947   948   949   950   951   954   955   959   961   964\n",
      "   994  1008  1009  1011  1013  1017  1018  1019  1021  1022  1025  1026\n",
      "  1028  1029  1030  1031  1032  1033  1034  1035  1036  1037  1038  1039\n",
      "  1040  1041  1042  1043  1044  1045  1046  1048  1049  1050  1051  1052\n",
      "  1053  1056  1058  1061  1062  1064  1089  1111  1213  1309  1421  1501\n",
      "  1819  1820  1821  1937  1946  1949  1954  1958  1968  1970  2009  2011\n",
      "  2014  2016]\n"
     ]
    },
    {
     "data": {
      "text/plain": [
       "386"
      ]
     },
     "execution_count": 22,
     "metadata": {},
     "output_type": "execute_result"
    }
   ],
   "source": [
    "df = mbrs['bd']\n",
    "df = np.unique(df)\n",
    "print(df)\n",
    "df.size"
   ]
  },
  {
   "cell_type": "code",
   "execution_count": 23,
   "metadata": {},
   "outputs": [
    {
     "data": {
      "image/png": "[encoded data removed]",
      "text/plain": [
       "<matplotlib.figure.Figure at 0x1080b5cf8>"
      ]
     },
     "metadata": {},
     "output_type": "display_data"
    }
   ],
   "source": [
    "plt.figure(figsize=(5,10))\n",
    "mbrs['bd'].plot(kind='box')\n",
    "plt.title('Age Distribution')\n",
    "plt.ylabel('Age')\n",
    "plt.show()"
   ]
  },
  {
   "cell_type": "code",
   "execution_count": 24,
   "metadata": {},
   "outputs": [
    {
     "data": {
      "image/png": "[encoded data removed]",
      "text/plain": [
       "<matplotlib.figure.Figure at 0x1081b08d0>"
      ]
     },
     "metadata": {},
     "output_type": "display_data"
    }
   ],
   "source": [
    "df = mbrs[mbrs['bd'] > -1]\n",
    "df1 = df[df['bd'] < 100]\n",
    "\n",
    "df1['bd'].plot(kind='box')\n",
    "plt.title('Age Distribution 0-100')\n",
    "plt.ylabel('Age')\n",
    "plt.show()"
   ]
  },
  {
   "cell_type": "code",
   "execution_count": 25,
   "metadata": {},
   "outputs": [
    {
     "data": {
      "image/png": "[encoded data removed]",
      "text/plain": [
       "<matplotlib.figure.Figure at 0x1082065f8>"
      ]
     },
     "metadata": {},
     "output_type": "display_data"
    }
   ],
   "source": [
    "gen = mbrs.groupby('gender').agg('count')\n",
    "gen['ratio'] = round((gen['msno'] / 6769473) * 100, 4)\n",
    "#print(gen)\n",
    "gen['msno'].plot(kind='bar')\n",
    "plt.show()"
   ]
  },
  {
   "cell_type": "code",
   "execution_count": 26,
   "metadata": {},
   "outputs": [
    {
     "name": "stdout",
     "output_type": "stream",
     "text": [
      "[-1  1  2  3  4  5  6  7  8  9 10 11 13 14 16 17 18 19]\n"
     ]
    },
    {
     "data": {
      "text/plain": [
       "18"
      ]
     },
     "execution_count": 26,
     "metadata": {},
     "output_type": "execute_result"
    }
   ],
   "source": [
    "df = mbrs['registered_via']\n",
    "df = np.unique(df)\n",
    "print(df)\n",
    "df.size"
   ]
  },
  {
   "cell_type": "code",
   "execution_count": 27,
   "metadata": {},
   "outputs": [
    {
     "data": {
      "image/png": "[encoded data removed]",
      "text/plain": [
       "<matplotlib.figure.Figure at 0x1820cf160>"
      ]
     },
     "metadata": {},
     "output_type": "display_data"
    }
   ],
   "source": [
    "reg = mbrs.groupby('registered_via').agg('count')\n",
    "reg['ratio'] = round((reg['msno'] / 6769473) * 100, 4)\n",
    "reg['msno'].plot(kind='bar')\n",
    "plt.show()"
   ]
  },
  {
   "cell_type": "code",
   "execution_count": 28,
   "metadata": {
    "scrolled": false
   },
   "outputs": [
    {
     "name": "stdout",
     "output_type": "stream",
     "text": [
      "20040326\n",
      "20170429\n"
     ]
    }
   ],
   "source": [
    "df = mbrs['registration_init_time']\n",
    "print(df.min())\n",
    "print(df.max())"
   ]
  },
  {
   "cell_type": "code",
   "execution_count": 29,
   "metadata": {
    "collapsed": true
   },
   "outputs": [],
   "source": [
    "mbrs['registration_init_time'] = pd.to_datetime(mbrs['registration_init_time'], format='%Y%m%d')"
   ]
  },
  {
   "cell_type": "code",
   "execution_count": 30,
   "metadata": {},
   "outputs": [
    {
     "data": {
      "image/png": "[encoded data removed]",
      "text/plain": [
       "<matplotlib.figure.Figure at 0x1820a3908>"
      ]
     },
     "metadata": {},
     "output_type": "display_data"
    }
   ],
   "source": [
    "init = mbrs.groupby('registration_init_time').agg('count')\n",
    "init['ratio'] = round((init['msno'] / 6769473) * 100, 4)\n",
    "\n",
    "plt.figure(figsize=(10,5))\n",
    "\n",
    "init['msno'].plot()\n",
    "plt.ylabel('Count')\n",
    "plt.title('Registration Date')\n",
    "\n",
    "plt.show()"
   ]
  },
  {
   "cell_type": "code",
   "execution_count": 31,
   "metadata": {},
   "outputs": [
    {
     "data": {
      "image/png": "[encoded data removed]",
      "text/plain": [
       "<matplotlib.figure.Figure at 0x109c21a20>"
      ]
     },
     "metadata": {},
     "output_type": "display_data"
    }
   ],
   "source": [
    "yr = init.resample(\"A\").sum()\n",
    "yr['msno'].plot(kind='bar')\n",
    "yr['ratio'] = round((yr['msno'] / 6769473) * 100, 4)\n",
    "#print(yr)\n",
    "plt.show()"
   ]
  },
  {
   "cell_type": "code",
   "execution_count": 32,
   "metadata": {
    "collapsed": true
   },
   "outputs": [],
   "source": [
    "mbrs['reg_init_mth'] = mbrs['registration_init_time'].dt.month"
   ]
  },
  {
   "cell_type": "code",
   "execution_count": 33,
   "metadata": {},
   "outputs": [
    {
     "data": {
      "image/png": "[encoded data removed]",
      "text/plain": [
       "<matplotlib.figure.Figure at 0x1097df0f0>"
      ]
     },
     "metadata": {},
     "output_type": "display_data"
    }
   ],
   "source": [
    "mth = mbrs.groupby('reg_init_mth').agg('count')\n",
    "mth['ratio'] = round((mth['msno'] / 6769473) * 100, 4)\n",
    "#print(mth)\n",
    "mth['msno'].plot(kind='bar')\n",
    "plt.show()"
   ]
  },
  {
   "cell_type": "code",
   "execution_count": 34,
   "metadata": {
    "collapsed": true
   },
   "outputs": [],
   "source": [
    "mbrs['reg_init_day'] = mbrs['registration_init_time'].dt.day"
   ]
  },
  {
   "cell_type": "code",
   "execution_count": 35,
   "metadata": {},
   "outputs": [
    {
     "data": {
      "image/png": "[encoded data removed]",
      "text/plain": [
       "<matplotlib.figure.Figure at 0x1080d2e80>"
      ]
     },
     "metadata": {},
     "output_type": "display_data"
    }
   ],
   "source": [
    "day = mbrs.groupby('reg_init_day').agg('count')\n",
    "day['ratio'] = round((day['msno'] / 6769473) * 100, 4)\n",
    "#print(day)\n",
    "day['msno'].plot(kind='bar')\n",
    "plt.show()"
   ]
  },
  {
   "cell_type": "code",
   "execution_count": 36,
   "metadata": {
    "collapsed": true
   },
   "outputs": [],
   "source": [
    "transactions_path = '/Users/Pewelix/Documents/Data_Science/KKBox_Challenge/transactions_v2.csv'\n",
    "trans = pd.read_csv(transactions_path)"
   ]
  },
  {
   "cell_type": "code",
   "execution_count": 37,
   "metadata": {},
   "outputs": [
    {
     "name": "stdout",
     "output_type": "stream",
     "text": [
      "<class 'pandas.core.frame.DataFrame'>\n",
      "RangeIndex: 1431009 entries, 0 to 1431008\n",
      "Data columns (total 9 columns):\n",
      "msno                      1431009 non-null object\n",
      "payment_method_id         1431009 non-null int64\n",
      "payment_plan_days         1431009 non-null int64\n",
      "plan_list_price           1431009 non-null int64\n",
      "actual_amount_paid        1431009 non-null int64\n",
      "is_auto_renew             1431009 non-null int64\n",
      "transaction_date          1431009 non-null int64\n",
      "membership_expire_date    1431009 non-null int64\n",
      "is_cancel                 1431009 non-null int64\n",
      "dtypes: int64(8), object(1)\n",
      "memory usage: 98.3+ MB\n"
     ]
    }
   ],
   "source": [
    "trans.info()"
   ]
  },
  {
   "cell_type": "code",
   "execution_count": 38,
   "metadata": {},
   "outputs": [
    {
     "data": {
      "text/html": [
       "<div>\n",
       "<style>\n",
       "    .dataframe thead tr:only-child th {\n",
       "        text-align: right;\n",
       "    }\n",
       "\n",
       "    .dataframe thead th {\n",
       "        text-align: left;\n",
       "    }\n",
       "\n",
       "    .dataframe tbody tr th {\n",
       "        vertical-align: top;\n",
       "    }\n",
       "</style>\n",
       "<table border=\"1\" class=\"dataframe\">\n",
       "  <thead>\n",
       "    <tr style=\"text-align: right;\">\n",
       "      <th></th>\n",
       "      <th>payment_method_id</th>\n",
       "      <th>payment_plan_days</th>\n",
       "      <th>plan_list_price</th>\n",
       "      <th>actual_amount_paid</th>\n",
       "      <th>is_auto_renew</th>\n",
       "      <th>transaction_date</th>\n",
       "      <th>membership_expire_date</th>\n",
       "      <th>is_cancel</th>\n",
       "    </tr>\n",
       "  </thead>\n",
       "  <tbody>\n",
       "    <tr>\n",
       "      <th>count</th>\n",
       "      <td>1.431009e+06</td>\n",
       "      <td>1.431009e+06</td>\n",
       "      <td>1.431009e+06</td>\n",
       "      <td>1.431009e+06</td>\n",
       "      <td>1.431009e+06</td>\n",
       "      <td>1.431009e+06</td>\n",
       "      <td>1.431009e+06</td>\n",
       "      <td>1.431009e+06</td>\n",
       "    </tr>\n",
       "    <tr>\n",
       "      <th>mean</th>\n",
       "      <td>3.791835e+01</td>\n",
       "      <td>6.601770e+01</td>\n",
       "      <td>2.817870e+02</td>\n",
       "      <td>2.813172e+02</td>\n",
       "      <td>7.853025e-01</td>\n",
       "      <td>2.016848e+07</td>\n",
       "      <td>2.017110e+07</td>\n",
       "      <td>2.455121e-02</td>\n",
       "    </tr>\n",
       "    <tr>\n",
       "      <th>std</th>\n",
       "      <td>4.964805e+00</td>\n",
       "      <td>1.024864e+02</td>\n",
       "      <td>4.351861e+02</td>\n",
       "      <td>4.354200e+02</td>\n",
       "      <td>4.106124e-01</td>\n",
       "      <td>4.858797e+03</td>\n",
       "      <td>3.032367e+03</td>\n",
       "      <td>1.547529e-01</td>\n",
       "    </tr>\n",
       "    <tr>\n",
       "      <th>min</th>\n",
       "      <td>2.000000e+00</td>\n",
       "      <td>0.000000e+00</td>\n",
       "      <td>0.000000e+00</td>\n",
       "      <td>0.000000e+00</td>\n",
       "      <td>0.000000e+00</td>\n",
       "      <td>2.015010e+07</td>\n",
       "      <td>2.016042e+07</td>\n",
       "      <td>0.000000e+00</td>\n",
       "    </tr>\n",
       "    <tr>\n",
       "      <th>25%</th>\n",
       "      <td>3.600000e+01</td>\n",
       "      <td>3.000000e+01</td>\n",
       "      <td>9.900000e+01</td>\n",
       "      <td>9.900000e+01</td>\n",
       "      <td>1.000000e+00</td>\n",
       "      <td>2.017023e+07</td>\n",
       "      <td>2.017041e+07</td>\n",
       "      <td>0.000000e+00</td>\n",
       "    </tr>\n",
       "    <tr>\n",
       "      <th>50%</th>\n",
       "      <td>4.000000e+01</td>\n",
       "      <td>3.000000e+01</td>\n",
       "      <td>1.490000e+02</td>\n",
       "      <td>1.490000e+02</td>\n",
       "      <td>1.000000e+00</td>\n",
       "      <td>2.017031e+07</td>\n",
       "      <td>2.017042e+07</td>\n",
       "      <td>0.000000e+00</td>\n",
       "    </tr>\n",
       "    <tr>\n",
       "      <th>75%</th>\n",
       "      <td>4.100000e+01</td>\n",
       "      <td>3.000000e+01</td>\n",
       "      <td>1.490000e+02</td>\n",
       "      <td>1.490000e+02</td>\n",
       "      <td>1.000000e+00</td>\n",
       "      <td>2.017032e+07</td>\n",
       "      <td>2.017050e+07</td>\n",
       "      <td>0.000000e+00</td>\n",
       "    </tr>\n",
       "    <tr>\n",
       "      <th>max</th>\n",
       "      <td>4.100000e+01</td>\n",
       "      <td>4.500000e+02</td>\n",
       "      <td>2.000000e+03</td>\n",
       "      <td>2.000000e+03</td>\n",
       "      <td>1.000000e+00</td>\n",
       "      <td>2.017033e+07</td>\n",
       "      <td>2.036102e+07</td>\n",
       "      <td>1.000000e+00</td>\n",
       "    </tr>\n",
       "  </tbody>\n",
       "</table>\n",
       "</div>"
      ],
      "text/plain": [
       "       payment_method_id  payment_plan_days  plan_list_price  \\\n",
       "count       1.431009e+06       1.431009e+06     1.431009e+06   \n",
       "mean        3.791835e+01       6.601770e+01     2.817870e+02   \n",
       "std         4.964805e+00       1.024864e+02     4.351861e+02   \n",
       "min         2.000000e+00       0.000000e+00     0.000000e+00   \n",
       "25%         3.600000e+01       3.000000e+01     9.900000e+01   \n",
       "50%         4.000000e+01       3.000000e+01     1.490000e+02   \n",
       "75%         4.100000e+01       3.000000e+01     1.490000e+02   \n",
       "max         4.100000e+01       4.500000e+02     2.000000e+03   \n",
       "\n",
       "       actual_amount_paid  is_auto_renew  transaction_date  \\\n",
       "count        1.431009e+06   1.431009e+06      1.431009e+06   \n",
       "mean         2.813172e+02   7.853025e-01      2.016848e+07   \n",
       "std          4.354200e+02   4.106124e-01      4.858797e+03   \n",
       "min          0.000000e+00   0.000000e+00      2.015010e+07   \n",
       "25%          9.900000e+01   1.000000e+00      2.017023e+07   \n",
       "50%          1.490000e+02   1.000000e+00      2.017031e+07   \n",
       "75%          1.490000e+02   1.000000e+00      2.017032e+07   \n",
       "max          2.000000e+03   1.000000e+00      2.017033e+07   \n",
       "\n",
       "       membership_expire_date     is_cancel  \n",
       "count            1.431009e+06  1.431009e+06  \n",
       "mean             2.017110e+07  2.455121e-02  \n",
       "std              3.032367e+03  1.547529e-01  \n",
       "min              2.016042e+07  0.000000e+00  \n",
       "25%              2.017041e+07  0.000000e+00  \n",
       "50%              2.017042e+07  0.000000e+00  \n",
       "75%              2.017050e+07  0.000000e+00  \n",
       "max              2.036102e+07  1.000000e+00  "
      ]
     },
     "execution_count": 38,
     "metadata": {},
     "output_type": "execute_result"
    }
   ],
   "source": [
    "trans.describe()"
   ]
  },
  {
   "cell_type": "code",
   "execution_count": 39,
   "metadata": {},
   "outputs": [
    {
     "data": {
      "text/plain": [
       "Index(['msno', 'payment_method_id', 'payment_plan_days', 'plan_list_price',\n",
       "       'actual_amount_paid', 'is_auto_renew', 'transaction_date',\n",
       "       'membership_expire_date', 'is_cancel'],\n",
       "      dtype='object')"
      ]
     },
     "execution_count": 39,
     "metadata": {},
     "output_type": "execute_result"
    }
   ],
   "source": [
    "trans.columns"
   ]
  },
  {
   "cell_type": "code",
   "execution_count": 40,
   "metadata": {},
   "outputs": [
    {
     "data": {
      "text/plain": [
       "msno                      0\n",
       "payment_method_id         0\n",
       "payment_plan_days         0\n",
       "plan_list_price           0\n",
       "actual_amount_paid        0\n",
       "is_auto_renew             0\n",
       "transaction_date          0\n",
       "membership_expire_date    0\n",
       "is_cancel                 0\n",
       "dtype: int64"
      ]
     },
     "execution_count": 40,
     "metadata": {},
     "output_type": "execute_result"
    }
   ],
   "source": [
    "trans.isnull().sum()"
   ]
  },
  {
   "cell_type": "code",
   "execution_count": 41,
   "metadata": {},
   "outputs": [
    {
     "data": {
      "text/plain": [
       "0"
      ]
     },
     "execution_count": 41,
     "metadata": {},
     "output_type": "execute_result"
    }
   ],
   "source": [
    "trans.duplicated().sum()"
   ]
  },
  {
   "cell_type": "code",
   "execution_count": 42,
   "metadata": {},
   "outputs": [
    {
     "data": {
      "text/plain": [
       "count                                          1431009\n",
       "unique                                         1197050\n",
       "top       72gJqt1O31E/WoxAEYFn9LHNI6mAZFGera5Q6gvsFkA=\n",
       "freq                                               208\n",
       "Name: msno, dtype: object"
      ]
     },
     "execution_count": 42,
     "metadata": {},
     "output_type": "execute_result"
    }
   ],
   "source": [
    "trans['msno'].describe()"
   ]
  },
  {
   "cell_type": "code",
   "execution_count": 43,
   "metadata": {},
   "outputs": [
    {
     "data": {
      "text/html": [
       "<div>\n",
       "<style>\n",
       "    .dataframe thead tr:only-child th {\n",
       "        text-align: right;\n",
       "    }\n",
       "\n",
       "    .dataframe thead th {\n",
       "        text-align: left;\n",
       "    }\n",
       "\n",
       "    .dataframe tbody tr th {\n",
       "        vertical-align: top;\n",
       "    }\n",
       "</style>\n",
       "<table border=\"1\" class=\"dataframe\">\n",
       "  <thead>\n",
       "    <tr style=\"text-align: right;\">\n",
       "      <th></th>\n",
       "      <th>msno</th>\n",
       "      <th>payment_method_id</th>\n",
       "      <th>payment_plan_days</th>\n",
       "      <th>plan_list_price</th>\n",
       "      <th>actual_amount_paid</th>\n",
       "      <th>is_auto_renew</th>\n",
       "      <th>transaction_date</th>\n",
       "      <th>membership_expire_date</th>\n",
       "      <th>is_cancel</th>\n",
       "      <th>transaction_count</th>\n",
       "    </tr>\n",
       "  </thead>\n",
       "  <tbody>\n",
       "    <tr>\n",
       "      <th>0</th>\n",
       "      <td>++6eU4LsQ3UQ20ILS7d99XK8WbiVgbyYL4FUgzZR134=</td>\n",
       "      <td>32</td>\n",
       "      <td>90</td>\n",
       "      <td>298</td>\n",
       "      <td>298</td>\n",
       "      <td>0</td>\n",
       "      <td>20170131</td>\n",
       "      <td>20170504</td>\n",
       "      <td>0</td>\n",
       "      <td>1</td>\n",
       "    </tr>\n",
       "    <tr>\n",
       "      <th>1</th>\n",
       "      <td>++lvGPJOinuin/8esghpnqdljm6NXS8m8Zwchc7gOeA=</td>\n",
       "      <td>41</td>\n",
       "      <td>30</td>\n",
       "      <td>149</td>\n",
       "      <td>149</td>\n",
       "      <td>1</td>\n",
       "      <td>20150809</td>\n",
       "      <td>20190412</td>\n",
       "      <td>0</td>\n",
       "      <td>39</td>\n",
       "    </tr>\n",
       "    <tr>\n",
       "      <th>2</th>\n",
       "      <td>+/GXNtXWQVfKrEDqYAzcSw2xSPYMKWNj22m+5XkVQZc=</td>\n",
       "      <td>36</td>\n",
       "      <td>30</td>\n",
       "      <td>180</td>\n",
       "      <td>180</td>\n",
       "      <td>1</td>\n",
       "      <td>20170303</td>\n",
       "      <td>20170422</td>\n",
       "      <td>0</td>\n",
       "      <td>1</td>\n",
       "    </tr>\n",
       "    <tr>\n",
       "      <th>3</th>\n",
       "      <td>+/w1UrZwyka4C9oNH3+Q8fUf3fD8R3EwWrx57ODIsqk=</td>\n",
       "      <td>36</td>\n",
       "      <td>30</td>\n",
       "      <td>180</td>\n",
       "      <td>180</td>\n",
       "      <td>1</td>\n",
       "      <td>20170329</td>\n",
       "      <td>20170331</td>\n",
       "      <td>1</td>\n",
       "      <td>1</td>\n",
       "    </tr>\n",
       "    <tr>\n",
       "      <th>4</th>\n",
       "      <td>+00PGzKTYqtnb65mPKPyeHXcZEwqiEzktpQksaaSC3c=</td>\n",
       "      <td>41</td>\n",
       "      <td>30</td>\n",
       "      <td>99</td>\n",
       "      <td>99</td>\n",
       "      <td>1</td>\n",
       "      <td>20170323</td>\n",
       "      <td>20170423</td>\n",
       "      <td>0</td>\n",
       "      <td>1</td>\n",
       "    </tr>\n",
       "  </tbody>\n",
       "</table>\n",
       "</div>"
      ],
      "text/plain": [
       "                                           msno  payment_method_id  \\\n",
       "0  ++6eU4LsQ3UQ20ILS7d99XK8WbiVgbyYL4FUgzZR134=                 32   \n",
       "1  ++lvGPJOinuin/8esghpnqdljm6NXS8m8Zwchc7gOeA=                 41   \n",
       "2  +/GXNtXWQVfKrEDqYAzcSw2xSPYMKWNj22m+5XkVQZc=                 36   \n",
       "3  +/w1UrZwyka4C9oNH3+Q8fUf3fD8R3EwWrx57ODIsqk=                 36   \n",
       "4  +00PGzKTYqtnb65mPKPyeHXcZEwqiEzktpQksaaSC3c=                 41   \n",
       "\n",
       "   payment_plan_days  plan_list_price  actual_amount_paid  is_auto_renew  \\\n",
       "0                 90              298                 298              0   \n",
       "1                 30              149                 149              1   \n",
       "2                 30              180                 180              1   \n",
       "3                 30              180                 180              1   \n",
       "4                 30               99                  99              1   \n",
       "\n",
       "   transaction_date  membership_expire_date  is_cancel  transaction_count  \n",
       "0          20170131                20170504          0                  1  \n",
       "1          20150809                20190412          0                 39  \n",
       "2          20170303                20170422          0                  1  \n",
       "3          20170329                20170331          1                  1  \n",
       "4          20170323                20170423          0                  1  "
      ]
     },
     "execution_count": 43,
     "metadata": {},
     "output_type": "execute_result"
    }
   ],
   "source": [
    "trans['transaction_count'] = trans.groupby('msno')['msno'].transform('count')\n",
    "trans.head()"
   ]
  },
  {
   "cell_type": "code",
   "execution_count": 44,
   "metadata": {},
   "outputs": [
    {
     "name": "stdout",
     "output_type": "stream",
     "text": [
      "[ 2  3  5  6  8 10 11 12 13 14 15 16 17 18 19 20 21 22 23 24 25 26 27 28 29\n",
      " 30 31 32 33 34 35 36 37 38 39 40 41]\n"
     ]
    },
    {
     "data": {
      "text/plain": [
       "37"
      ]
     },
     "execution_count": 44,
     "metadata": {},
     "output_type": "execute_result"
    }
   ],
   "source": [
    "df = trans['payment_method_id']\n",
    "df = np.unique(df)\n",
    "print(df)\n",
    "df.size"
   ]
  },
  {
   "cell_type": "code",
   "execution_count": 45,
   "metadata": {
    "scrolled": false
   },
   "outputs": [
    {
     "data": {
      "image/png": "[encoded data removed]",
      "text/plain": [
       "<matplotlib.figure.Figure at 0x1632b5518>"
      ]
     },
     "metadata": {},
     "output_type": "display_data"
    }
   ],
   "source": [
    "df = trans.groupby('payment_method_id').agg('count')\n",
    "df['ratio'] = round((df['msno'] / 1431009) * 100, 4)\n",
    "df['msno'].plot(kind='bar')\n",
    "plt.show()"
   ]
  },
  {
   "cell_type": "code",
   "execution_count": 46,
   "metadata": {},
   "outputs": [
    {
     "data": {
      "text/html": [
       "<div>\n",
       "<style>\n",
       "    .dataframe thead tr:only-child th {\n",
       "        text-align: right;\n",
       "    }\n",
       "\n",
       "    .dataframe thead th {\n",
       "        text-align: left;\n",
       "    }\n",
       "\n",
       "    .dataframe tbody tr th {\n",
       "        vertical-align: top;\n",
       "    }\n",
       "</style>\n",
       "<table border=\"1\" class=\"dataframe\">\n",
       "  <thead>\n",
       "    <tr style=\"text-align: right;\">\n",
       "      <th></th>\n",
       "      <th>msno</th>\n",
       "      <th>payment_method_id</th>\n",
       "      <th>payment_plan_days</th>\n",
       "      <th>plan_list_price</th>\n",
       "      <th>actual_amount_paid</th>\n",
       "      <th>is_auto_renew</th>\n",
       "      <th>transaction_date</th>\n",
       "      <th>membership_expire_date</th>\n",
       "      <th>is_cancel</th>\n",
       "      <th>transaction_count</th>\n",
       "    </tr>\n",
       "  </thead>\n",
       "  <tbody>\n",
       "    <tr>\n",
       "      <th>0</th>\n",
       "      <td>++6eU4LsQ3UQ20ILS7d99XK8WbiVgbyYL4FUgzZR134=</td>\n",
       "      <td>32</td>\n",
       "      <td>90</td>\n",
       "      <td>298</td>\n",
       "      <td>298</td>\n",
       "      <td>0</td>\n",
       "      <td>20170131</td>\n",
       "      <td>20170504</td>\n",
       "      <td>0</td>\n",
       "      <td>1</td>\n",
       "    </tr>\n",
       "    <tr>\n",
       "      <th>1</th>\n",
       "      <td>++lvGPJOinuin/8esghpnqdljm6NXS8m8Zwchc7gOeA=</td>\n",
       "      <td>41</td>\n",
       "      <td>30</td>\n",
       "      <td>149</td>\n",
       "      <td>149</td>\n",
       "      <td>1</td>\n",
       "      <td>20150809</td>\n",
       "      <td>20190412</td>\n",
       "      <td>0</td>\n",
       "      <td>39</td>\n",
       "    </tr>\n",
       "    <tr>\n",
       "      <th>2</th>\n",
       "      <td>+/GXNtXWQVfKrEDqYAzcSw2xSPYMKWNj22m+5XkVQZc=</td>\n",
       "      <td>36</td>\n",
       "      <td>30</td>\n",
       "      <td>180</td>\n",
       "      <td>180</td>\n",
       "      <td>1</td>\n",
       "      <td>20170303</td>\n",
       "      <td>20170422</td>\n",
       "      <td>0</td>\n",
       "      <td>1</td>\n",
       "    </tr>\n",
       "    <tr>\n",
       "      <th>3</th>\n",
       "      <td>+/w1UrZwyka4C9oNH3+Q8fUf3fD8R3EwWrx57ODIsqk=</td>\n",
       "      <td>36</td>\n",
       "      <td>30</td>\n",
       "      <td>180</td>\n",
       "      <td>180</td>\n",
       "      <td>1</td>\n",
       "      <td>20170329</td>\n",
       "      <td>20170331</td>\n",
       "      <td>1</td>\n",
       "      <td>1</td>\n",
       "    </tr>\n",
       "    <tr>\n",
       "      <th>4</th>\n",
       "      <td>+00PGzKTYqtnb65mPKPyeHXcZEwqiEzktpQksaaSC3c=</td>\n",
       "      <td>41</td>\n",
       "      <td>30</td>\n",
       "      <td>99</td>\n",
       "      <td>99</td>\n",
       "      <td>1</td>\n",
       "      <td>20170323</td>\n",
       "      <td>20170423</td>\n",
       "      <td>0</td>\n",
       "      <td>1</td>\n",
       "    </tr>\n",
       "  </tbody>\n",
       "</table>\n",
       "</div>"
      ],
      "text/plain": [
       "                                           msno  payment_method_id  \\\n",
       "0  ++6eU4LsQ3UQ20ILS7d99XK8WbiVgbyYL4FUgzZR134=                 32   \n",
       "1  ++lvGPJOinuin/8esghpnqdljm6NXS8m8Zwchc7gOeA=                 41   \n",
       "2  +/GXNtXWQVfKrEDqYAzcSw2xSPYMKWNj22m+5XkVQZc=                 36   \n",
       "3  +/w1UrZwyka4C9oNH3+Q8fUf3fD8R3EwWrx57ODIsqk=                 36   \n",
       "4  +00PGzKTYqtnb65mPKPyeHXcZEwqiEzktpQksaaSC3c=                 41   \n",
       "\n",
       "   payment_plan_days  plan_list_price  actual_amount_paid  is_auto_renew  \\\n",
       "0                 90              298                 298              0   \n",
       "1                 30              149                 149              1   \n",
       "2                 30              180                 180              1   \n",
       "3                 30              180                 180              1   \n",
       "4                 30               99                  99              1   \n",
       "\n",
       "   transaction_date  membership_expire_date  is_cancel  transaction_count  \n",
       "0          20170131                20170504          0                  1  \n",
       "1          20150809                20190412          0                 39  \n",
       "2          20170303                20170422          0                  1  \n",
       "3          20170329                20170331          1                  1  \n",
       "4          20170323                20170423          0                  1  "
      ]
     },
     "execution_count": 46,
     "metadata": {},
     "output_type": "execute_result"
    }
   ],
   "source": [
    "df1 = trans.drop_duplicates(['msno', 'payment_method_id'])\n",
    "df1.head()"
   ]
  },
  {
   "cell_type": "code",
   "execution_count": 47,
   "metadata": {},
   "outputs": [
    {
     "data": {
      "text/plain": [
       "18888"
      ]
     },
     "execution_count": 47,
     "metadata": {},
     "output_type": "execute_result"
    }
   ],
   "source": [
    "df1.duplicated('msno').sum()"
   ]
  },
  {
   "cell_type": "code",
   "execution_count": 48,
   "metadata": {},
   "outputs": [
    {
     "name": "stderr",
     "output_type": "stream",
     "text": [
      "/Users/Pewelix/anaconda3/lib/python3.6/site-packages/ipykernel_launcher.py:1: SettingWithCopyWarning: \n",
      "A value is trying to be set on a copy of a slice from a DataFrame.\n",
      "Try using .loc[row_indexer,col_indexer] = value instead\n",
      "\n",
      "See the caveats in the documentation: http://pandas.pydata.org/pandas-docs/stable/indexing.html#indexing-view-versus-copy\n",
      "  \"\"\"Entry point for launching an IPython kernel.\n"
     ]
    },
    {
     "data": {
      "text/html": [
       "<div>\n",
       "<style>\n",
       "    .dataframe thead tr:only-child th {\n",
       "        text-align: right;\n",
       "    }\n",
       "\n",
       "    .dataframe thead th {\n",
       "        text-align: left;\n",
       "    }\n",
       "\n",
       "    .dataframe tbody tr th {\n",
       "        vertical-align: top;\n",
       "    }\n",
       "</style>\n",
       "<table border=\"1\" class=\"dataframe\">\n",
       "  <thead>\n",
       "    <tr style=\"text-align: right;\">\n",
       "      <th></th>\n",
       "      <th>msno</th>\n",
       "      <th>methods_used</th>\n",
       "    </tr>\n",
       "  </thead>\n",
       "  <tbody>\n",
       "    <tr>\n",
       "      <th>0</th>\n",
       "      <td>++6eU4LsQ3UQ20ILS7d99XK8WbiVgbyYL4FUgzZR134=</td>\n",
       "      <td>1</td>\n",
       "    </tr>\n",
       "    <tr>\n",
       "      <th>1</th>\n",
       "      <td>++lvGPJOinuin/8esghpnqdljm6NXS8m8Zwchc7gOeA=</td>\n",
       "      <td>1</td>\n",
       "    </tr>\n",
       "    <tr>\n",
       "      <th>2</th>\n",
       "      <td>+/GXNtXWQVfKrEDqYAzcSw2xSPYMKWNj22m+5XkVQZc=</td>\n",
       "      <td>1</td>\n",
       "    </tr>\n",
       "    <tr>\n",
       "      <th>3</th>\n",
       "      <td>+/w1UrZwyka4C9oNH3+Q8fUf3fD8R3EwWrx57ODIsqk=</td>\n",
       "      <td>1</td>\n",
       "    </tr>\n",
       "    <tr>\n",
       "      <th>4</th>\n",
       "      <td>+00PGzKTYqtnb65mPKPyeHXcZEwqiEzktpQksaaSC3c=</td>\n",
       "      <td>1</td>\n",
       "    </tr>\n",
       "  </tbody>\n",
       "</table>\n",
       "</div>"
      ],
      "text/plain": [
       "                                           msno  methods_used\n",
       "0  ++6eU4LsQ3UQ20ILS7d99XK8WbiVgbyYL4FUgzZR134=             1\n",
       "1  ++lvGPJOinuin/8esghpnqdljm6NXS8m8Zwchc7gOeA=             1\n",
       "2  +/GXNtXWQVfKrEDqYAzcSw2xSPYMKWNj22m+5XkVQZc=             1\n",
       "3  +/w1UrZwyka4C9oNH3+Q8fUf3fD8R3EwWrx57ODIsqk=             1\n",
       "4  +00PGzKTYqtnb65mPKPyeHXcZEwqiEzktpQksaaSC3c=             1"
      ]
     },
     "execution_count": 48,
     "metadata": {},
     "output_type": "execute_result"
    }
   ],
   "source": [
    "df1['methods_used'] = df1.groupby('msno')['msno'].transform('count')\n",
    "df1 = df1[['msno', 'methods_used']]\n",
    "df1.head()"
   ]
  },
  {
   "cell_type": "code",
   "execution_count": 49,
   "metadata": {
    "collapsed": true
   },
   "outputs": [],
   "source": [
    "trans = pd.merge(trans, df1, how='left', on='msno')\n",
    "trans = trans.sort_values('msno')"
   ]
  },
  {
   "cell_type": "code",
   "execution_count": 50,
   "metadata": {},
   "outputs": [
    {
     "name": "stdout",
     "output_type": "stream",
     "text": [
      "[  0   1   3   7  10  14  21  30  31  35  45  60  70  80  90 100 110 120\n",
      " 180 195 200 230 240 270 360 365 395 400 410 415 450]\n"
     ]
    },
    {
     "data": {
      "text/plain": [
       "31"
      ]
     },
     "execution_count": 50,
     "metadata": {},
     "output_type": "execute_result"
    }
   ],
   "source": [
    "df = trans['payment_plan_days']\n",
    "df = np.unique(df)\n",
    "print(df)\n",
    "df.size"
   ]
  },
  {
   "cell_type": "code",
   "execution_count": 51,
   "metadata": {},
   "outputs": [
    {
     "data": {
      "image/png": "[encoded data removed]",
      "text/plain": [
       "<matplotlib.figure.Figure at 0x10c51d470>"
      ]
     },
     "metadata": {},
     "output_type": "display_data"
    }
   ],
   "source": [
    "df = trans.groupby('payment_plan_days').agg('count')\n",
    "df['ratio'] = round((df['msno'] / 1431009) * 100, 4)\n",
    "df['msno'].plot(kind='bar')\n",
    "plt.show()"
   ]
  },
  {
   "cell_type": "code",
   "execution_count": 52,
   "metadata": {
    "scrolled": false
   },
   "outputs": [
    {
     "name": "stderr",
     "output_type": "stream",
     "text": [
      "/Users/Pewelix/anaconda3/lib/python3.6/site-packages/ipykernel_launcher.py:2: SettingWithCopyWarning: \n",
      "A value is trying to be set on a copy of a slice from a DataFrame.\n",
      "Try using .loc[row_indexer,col_indexer] = value instead\n",
      "\n",
      "See the caveats in the documentation: http://pandas.pydata.org/pandas-docs/stable/indexing.html#indexing-view-versus-copy\n",
      "  \n"
     ]
    },
    {
     "name": "stdout",
     "output_type": "stream",
     "text": [
      "<class 'pandas.core.frame.DataFrame'>\n",
      "Int64Index: 1612890 entries, 0 to 1612889\n",
      "Data columns (total 12 columns):\n",
      "msno                      1612890 non-null object\n",
      "payment_method_id         1612890 non-null int64\n",
      "payment_plan_days         1612890 non-null int64\n",
      "plan_list_price           1612890 non-null int64\n",
      "actual_amount_paid        1612890 non-null int64\n",
      "is_auto_renew             1612890 non-null int64\n",
      "transaction_date          1612890 non-null int64\n",
      "membership_expire_date    1612890 non-null int64\n",
      "is_cancel                 1612890 non-null int64\n",
      "transaction_count         1612890 non-null int64\n",
      "methods_used              1612890 non-null int64\n",
      "plans_used                1612890 non-null int64\n",
      "dtypes: int64(11), object(1)\n",
      "memory usage: 160.0+ MB\n"
     ]
    }
   ],
   "source": [
    "df1 = trans.drop_duplicates(['msno', 'payment_plan_days'])\n",
    "df1['plans_used'] = df1.groupby('msno')['msno'].transform('count')\n",
    "df1 = df1[['msno', 'plans_used']]\n",
    "trans = pd.merge(trans, df1, how='left', on='msno')\n",
    "trans.info()"
   ]
  },
  {
   "cell_type": "code",
   "execution_count": 53,
   "metadata": {},
   "outputs": [
    {
     "data": {
      "text/plain": [
       "array([1, 2, 3, 4, 5])"
      ]
     },
     "execution_count": 53,
     "metadata": {},
     "output_type": "execute_result"
    }
   ],
   "source": [
    "trans['plans_used'].unique()"
   ]
  },
  {
   "cell_type": "code",
   "execution_count": 54,
   "metadata": {},
   "outputs": [
    {
     "name": "stdout",
     "output_type": "stream",
     "text": [
      "[   0    1   15   30   35   50   70   99  100  105  119  120  127  129  131\n",
      "  134  143  149  150  180  210  265  298  300  350  400  447  450  477  480\n",
      "  500  536  596  600  699  799  849  894  897  930  984 1000 1150 1200 1260\n",
      " 1299 1300 1399 1599 1778 1780 1788 2000]\n"
     ]
    },
    {
     "data": {
      "text/plain": [
       "53"
      ]
     },
     "execution_count": 54,
     "metadata": {},
     "output_type": "execute_result"
    }
   ],
   "source": [
    "df = trans['actual_amount_paid']\n",
    "df = np.unique(df)\n",
    "print(df)\n",
    "df.size"
   ]
  },
  {
   "cell_type": "code",
   "execution_count": 55,
   "metadata": {
    "collapsed": true
   },
   "outputs": [],
   "source": [
    "trans['discount'] = trans['plan_list_price'] - trans['actual_amount_paid']"
   ]
  },
  {
   "cell_type": "code",
   "execution_count": 56,
   "metadata": {},
   "outputs": [
    {
     "data": {
      "text/html": [
       "<div>\n",
       "<style>\n",
       "    .dataframe thead tr:only-child th {\n",
       "        text-align: right;\n",
       "    }\n",
       "\n",
       "    .dataframe thead th {\n",
       "        text-align: left;\n",
       "    }\n",
       "\n",
       "    .dataframe tbody tr th {\n",
       "        vertical-align: top;\n",
       "    }\n",
       "</style>\n",
       "<table border=\"1\" class=\"dataframe\">\n",
       "  <thead>\n",
       "    <tr style=\"text-align: right;\">\n",
       "      <th></th>\n",
       "      <th>msno</th>\n",
       "      <th>payment_method_id</th>\n",
       "      <th>payment_plan_days</th>\n",
       "      <th>plan_list_price</th>\n",
       "      <th>actual_amount_paid</th>\n",
       "      <th>is_auto_renew</th>\n",
       "      <th>transaction_date</th>\n",
       "      <th>membership_expire_date</th>\n",
       "      <th>is_cancel</th>\n",
       "      <th>transaction_count</th>\n",
       "      <th>methods_used</th>\n",
       "      <th>plans_used</th>\n",
       "      <th>discount</th>\n",
       "    </tr>\n",
       "  </thead>\n",
       "  <tbody>\n",
       "    <tr>\n",
       "      <th>279</th>\n",
       "      <td>++lvGPJOinuin/8esghpnqdljm6NXS8m8Zwchc7gOeA=</td>\n",
       "      <td>41</td>\n",
       "      <td>30</td>\n",
       "      <td>149</td>\n",
       "      <td>119</td>\n",
       "      <td>1</td>\n",
       "      <td>20150409</td>\n",
       "      <td>20180507</td>\n",
       "      <td>0</td>\n",
       "      <td>39</td>\n",
       "      <td>1</td>\n",
       "      <td>2</td>\n",
       "      <td>30</td>\n",
       "    </tr>\n",
       "    <tr>\n",
       "      <th>280</th>\n",
       "      <td>++lvGPJOinuin/8esghpnqdljm6NXS8m8Zwchc7gOeA=</td>\n",
       "      <td>41</td>\n",
       "      <td>30</td>\n",
       "      <td>149</td>\n",
       "      <td>119</td>\n",
       "      <td>1</td>\n",
       "      <td>20150409</td>\n",
       "      <td>20180507</td>\n",
       "      <td>0</td>\n",
       "      <td>39</td>\n",
       "      <td>1</td>\n",
       "      <td>2</td>\n",
       "      <td>30</td>\n",
       "    </tr>\n",
       "    <tr>\n",
       "      <th>291</th>\n",
       "      <td>++lvGPJOinuin/8esghpnqdljm6NXS8m8Zwchc7gOeA=</td>\n",
       "      <td>41</td>\n",
       "      <td>30</td>\n",
       "      <td>149</td>\n",
       "      <td>119</td>\n",
       "      <td>1</td>\n",
       "      <td>20150309</td>\n",
       "      <td>20180206</td>\n",
       "      <td>0</td>\n",
       "      <td>39</td>\n",
       "      <td>1</td>\n",
       "      <td>2</td>\n",
       "      <td>30</td>\n",
       "    </tr>\n",
       "    <tr>\n",
       "      <th>292</th>\n",
       "      <td>++lvGPJOinuin/8esghpnqdljm6NXS8m8Zwchc7gOeA=</td>\n",
       "      <td>41</td>\n",
       "      <td>30</td>\n",
       "      <td>149</td>\n",
       "      <td>119</td>\n",
       "      <td>1</td>\n",
       "      <td>20150309</td>\n",
       "      <td>20180206</td>\n",
       "      <td>0</td>\n",
       "      <td>39</td>\n",
       "      <td>1</td>\n",
       "      <td>2</td>\n",
       "      <td>30</td>\n",
       "    </tr>\n",
       "    <tr>\n",
       "      <th>319</th>\n",
       "      <td>++lvGPJOinuin/8esghpnqdljm6NXS8m8Zwchc7gOeA=</td>\n",
       "      <td>41</td>\n",
       "      <td>30</td>\n",
       "      <td>149</td>\n",
       "      <td>119</td>\n",
       "      <td>1</td>\n",
       "      <td>20150109</td>\n",
       "      <td>20170813</td>\n",
       "      <td>0</td>\n",
       "      <td>39</td>\n",
       "      <td>1</td>\n",
       "      <td>2</td>\n",
       "      <td>30</td>\n",
       "    </tr>\n",
       "  </tbody>\n",
       "</table>\n",
       "</div>"
      ],
      "text/plain": [
       "                                             msno  payment_method_id  \\\n",
       "279  ++lvGPJOinuin/8esghpnqdljm6NXS8m8Zwchc7gOeA=                 41   \n",
       "280  ++lvGPJOinuin/8esghpnqdljm6NXS8m8Zwchc7gOeA=                 41   \n",
       "291  ++lvGPJOinuin/8esghpnqdljm6NXS8m8Zwchc7gOeA=                 41   \n",
       "292  ++lvGPJOinuin/8esghpnqdljm6NXS8m8Zwchc7gOeA=                 41   \n",
       "319  ++lvGPJOinuin/8esghpnqdljm6NXS8m8Zwchc7gOeA=                 41   \n",
       "\n",
       "     payment_plan_days  plan_list_price  actual_amount_paid  is_auto_renew  \\\n",
       "279                 30              149                 119              1   \n",
       "280                 30              149                 119              1   \n",
       "291                 30              149                 119              1   \n",
       "292                 30              149                 119              1   \n",
       "319                 30              149                 119              1   \n",
       "\n",
       "     transaction_date  membership_expire_date  is_cancel  transaction_count  \\\n",
       "279          20150409                20180507          0                 39   \n",
       "280          20150409                20180507          0                 39   \n",
       "291          20150309                20180206          0                 39   \n",
       "292          20150309                20180206          0                 39   \n",
       "319          20150109                20170813          0                 39   \n",
       "\n",
       "     methods_used  plans_used  discount  \n",
       "279             1           2        30  \n",
       "280             1           2        30  \n",
       "291             1           2        30  \n",
       "292             1           2        30  \n",
       "319             1           2        30  "
      ]
     },
     "execution_count": 56,
     "metadata": {},
     "output_type": "execute_result"
    }
   ],
   "source": [
    "df = trans[trans['discount'] > 0]\n",
    "df.head()"
   ]
  },
  {
   "cell_type": "code",
   "execution_count": 57,
   "metadata": {},
   "outputs": [
    {
     "data": {
      "text/html": [
       "<div>\n",
       "<style>\n",
       "    .dataframe thead tr:only-child th {\n",
       "        text-align: right;\n",
       "    }\n",
       "\n",
       "    .dataframe thead th {\n",
       "        text-align: left;\n",
       "    }\n",
       "\n",
       "    .dataframe tbody tr th {\n",
       "        vertical-align: top;\n",
       "    }\n",
       "</style>\n",
       "<table border=\"1\" class=\"dataframe\">\n",
       "  <thead>\n",
       "    <tr style=\"text-align: right;\">\n",
       "      <th></th>\n",
       "      <th>msno</th>\n",
       "      <th>payment_method_id</th>\n",
       "      <th>payment_plan_days</th>\n",
       "      <th>plan_list_price</th>\n",
       "      <th>actual_amount_paid</th>\n",
       "      <th>is_auto_renew</th>\n",
       "      <th>transaction_date</th>\n",
       "      <th>membership_expire_date</th>\n",
       "      <th>is_cancel</th>\n",
       "      <th>transaction_count</th>\n",
       "      <th>methods_used</th>\n",
       "      <th>plans_used</th>\n",
       "      <th>discount</th>\n",
       "      <th>percent_off</th>\n",
       "    </tr>\n",
       "  </thead>\n",
       "  <tbody>\n",
       "    <tr>\n",
       "      <th>0</th>\n",
       "      <td>+++IZseRRiQS9aaSkH6cMYU6bGDcxUieAi/tH67sC5s=</td>\n",
       "      <td>22</td>\n",
       "      <td>395</td>\n",
       "      <td>1599</td>\n",
       "      <td>1599</td>\n",
       "      <td>0</td>\n",
       "      <td>20161023</td>\n",
       "      <td>20180206</td>\n",
       "      <td>0</td>\n",
       "      <td>1</td>\n",
       "      <td>1</td>\n",
       "      <td>1</td>\n",
       "      <td>0</td>\n",
       "      <td>0.0</td>\n",
       "    </tr>\n",
       "    <tr>\n",
       "      <th>1</th>\n",
       "      <td>+++hVY1rZox/33YtvDgmKA2Frg/2qhkz12B9ylCvh8o=</td>\n",
       "      <td>41</td>\n",
       "      <td>30</td>\n",
       "      <td>99</td>\n",
       "      <td>99</td>\n",
       "      <td>1</td>\n",
       "      <td>20170315</td>\n",
       "      <td>20170415</td>\n",
       "      <td>0</td>\n",
       "      <td>1</td>\n",
       "      <td>1</td>\n",
       "      <td>1</td>\n",
       "      <td>0</td>\n",
       "      <td>0.0</td>\n",
       "    </tr>\n",
       "    <tr>\n",
       "      <th>2</th>\n",
       "      <td>+++l/EXNMLTijfLBa8p2TUVVVp2aFGSuUI/h7mLmthw=</td>\n",
       "      <td>39</td>\n",
       "      <td>30</td>\n",
       "      <td>149</td>\n",
       "      <td>149</td>\n",
       "      <td>1</td>\n",
       "      <td>20170331</td>\n",
       "      <td>20170519</td>\n",
       "      <td>0</td>\n",
       "      <td>2</td>\n",
       "      <td>1</td>\n",
       "      <td>1</td>\n",
       "      <td>0</td>\n",
       "      <td>0.0</td>\n",
       "    </tr>\n",
       "    <tr>\n",
       "      <th>3</th>\n",
       "      <td>+++l/EXNMLTijfLBa8p2TUVVVp2aFGSuUI/h7mLmthw=</td>\n",
       "      <td>39</td>\n",
       "      <td>30</td>\n",
       "      <td>149</td>\n",
       "      <td>149</td>\n",
       "      <td>1</td>\n",
       "      <td>20170228</td>\n",
       "      <td>20170419</td>\n",
       "      <td>0</td>\n",
       "      <td>2</td>\n",
       "      <td>1</td>\n",
       "      <td>1</td>\n",
       "      <td>0</td>\n",
       "      <td>0.0</td>\n",
       "    </tr>\n",
       "    <tr>\n",
       "      <th>4</th>\n",
       "      <td>+++snpr7pmobhLKUgSHTv/mpkqgBT0tQJ0zQj6qKrqc=</td>\n",
       "      <td>41</td>\n",
       "      <td>30</td>\n",
       "      <td>149</td>\n",
       "      <td>149</td>\n",
       "      <td>1</td>\n",
       "      <td>20170326</td>\n",
       "      <td>20170426</td>\n",
       "      <td>0</td>\n",
       "      <td>1</td>\n",
       "      <td>1</td>\n",
       "      <td>1</td>\n",
       "      <td>0</td>\n",
       "      <td>0.0</td>\n",
       "    </tr>\n",
       "  </tbody>\n",
       "</table>\n",
       "</div>"
      ],
      "text/plain": [
       "                                           msno  payment_method_id  \\\n",
       "0  +++IZseRRiQS9aaSkH6cMYU6bGDcxUieAi/tH67sC5s=                 22   \n",
       "1  +++hVY1rZox/33YtvDgmKA2Frg/2qhkz12B9ylCvh8o=                 41   \n",
       "2  +++l/EXNMLTijfLBa8p2TUVVVp2aFGSuUI/h7mLmthw=                 39   \n",
       "3  +++l/EXNMLTijfLBa8p2TUVVVp2aFGSuUI/h7mLmthw=                 39   \n",
       "4  +++snpr7pmobhLKUgSHTv/mpkqgBT0tQJ0zQj6qKrqc=                 41   \n",
       "\n",
       "   payment_plan_days  plan_list_price  actual_amount_paid  is_auto_renew  \\\n",
       "0                395             1599                1599              0   \n",
       "1                 30               99                  99              1   \n",
       "2                 30              149                 149              1   \n",
       "3                 30              149                 149              1   \n",
       "4                 30              149                 149              1   \n",
       "\n",
       "   transaction_date  membership_expire_date  is_cancel  transaction_count  \\\n",
       "0          20161023                20180206          0                  1   \n",
       "1          20170315                20170415          0                  1   \n",
       "2          20170331                20170519          0                  2   \n",
       "3          20170228                20170419          0                  2   \n",
       "4          20170326                20170426          0                  1   \n",
       "\n",
       "   methods_used  plans_used  discount  percent_off  \n",
       "0             1           1         0          0.0  \n",
       "1             1           1         0          0.0  \n",
       "2             1           1         0          0.0  \n",
       "3             1           1         0          0.0  \n",
       "4             1           1         0          0.0  "
      ]
     },
     "execution_count": 57,
     "metadata": {},
     "output_type": "execute_result"
    }
   ],
   "source": [
    "trans['percent_off'] = round((trans['discount'] / trans['plan_list_price']) * 100, 1)\n",
    "trans.head()"
   ]
  },
  {
   "cell_type": "code",
   "execution_count": 58,
   "metadata": {},
   "outputs": [
    {
     "data": {
      "text/plain": [
       "array([    0,  -149,    30,  -129,   149,    50,   180, -1788,    99,\n",
       "        -894,    20,  -119,  -100,   120,    -1, -1200,  1599,   894,\n",
       "          -3,     1,   129,  -596,    10,     8,  -447,   -90,    45])"
      ]
     },
     "execution_count": 58,
     "metadata": {},
     "output_type": "execute_result"
    }
   ],
   "source": [
    "trans['discount'].unique()"
   ]
  },
  {
   "cell_type": "code",
   "execution_count": 59,
   "metadata": {},
   "outputs": [
    {
     "data": {
      "image/png": "[encoded data removed]",
      "text/plain": [
       "<matplotlib.figure.Figure at 0x1586d4860>"
      ]
     },
     "metadata": {},
     "output_type": "display_data"
    }
   ],
   "source": [
    "df = trans.groupby('discount').agg('count')\n",
    "df['ratio'] = round((df['msno'] / 9639) * 100, 4)\n",
    "df['msno'].plot(kind='bar')\n",
    "plt.show()"
   ]
  },
  {
   "cell_type": "code",
   "execution_count": 60,
   "metadata": {},
   "outputs": [
    {
     "name": "stdout",
     "output_type": "stream",
     "text": [
      "[0 1]\n"
     ]
    },
    {
     "data": {
      "text/plain": [
       "2"
      ]
     },
     "execution_count": 60,
     "metadata": {},
     "output_type": "execute_result"
    }
   ],
   "source": [
    "df = trans['is_auto_renew']\n",
    "df = np.unique(df)\n",
    "print(df)\n",
    "df.size"
   ]
  },
  {
   "cell_type": "code",
   "execution_count": 61,
   "metadata": {},
   "outputs": [
    {
     "data": {
      "image/png": "[encoded data removed]",
      "text/plain": [
       "<matplotlib.figure.Figure at 0x10c517c50>"
      ]
     },
     "metadata": {},
     "output_type": "display_data"
    }
   ],
   "source": [
    "df = trans.groupby('is_auto_renew').agg('count')\n",
    "df['ratio'] = round((df['msno'] / 1431009) * 100, 4)\n",
    "df['msno'].plot(kind='bar')\n",
    "plt.show()"
   ]
  },
  {
   "cell_type": "code",
   "execution_count": 62,
   "metadata": {},
   "outputs": [
    {
     "data": {
      "image/png": "[encoded data removed]",
      "text/plain": [
       "<matplotlib.figure.Figure at 0x10c4ce630>"
      ]
     },
     "metadata": {},
     "output_type": "display_data"
    }
   ],
   "source": [
    "df = trans.groupby('is_cancel').agg('count')\n",
    "df['ratio'] = round((df['msno'] / 1431009) * 100, 4)\n",
    "df['msno'].plot(kind='bar')\n",
    "plt.show()"
   ]
  },
  {
   "cell_type": "code",
   "execution_count": 63,
   "metadata": {},
   "outputs": [
    {
     "name": "stdout",
     "output_type": "stream",
     "text": [
      "20150101\n",
      "20170331\n"
     ]
    }
   ],
   "source": [
    "df = trans['transaction_date']\n",
    "print(df.min())\n",
    "print(df.max())"
   ]
  },
  {
   "cell_type": "code",
   "execution_count": 64,
   "metadata": {},
   "outputs": [
    {
     "data": {
      "image/png": "[encoded data removed]",
      "text/plain": [
       "<matplotlib.figure.Figure at 0x15942ef28>"
      ]
     },
     "metadata": {},
     "output_type": "display_data"
    }
   ],
   "source": [
    "trans['transaction_date'] = pd.to_datetime(trans['transaction_date'], format='%Y%m%d')\n",
    "\n",
    "init = trans.groupby('transaction_date').agg('count')\n",
    "init['ratio'] = round((init['msno'] / 1431009) * 100, 4)\n",
    "\n",
    "plt.figure(figsize=(10,5))\n",
    "\n",
    "init['msno'].plot()\n",
    "plt.show()"
   ]
  },
  {
   "cell_type": "code",
   "execution_count": 65,
   "metadata": {},
   "outputs": [
    {
     "data": {
      "image/png": "[encoded data removed]",
      "text/plain": [
       "<matplotlib.figure.Figure at 0x10c54eba8>"
      ]
     },
     "metadata": {},
     "output_type": "display_data"
    },
    {
     "data": {
      "image/png": "[encoded data removed]",
      "text/plain": [
       "<matplotlib.figure.Figure at 0x15944b400>"
      ]
     },
     "metadata": {},
     "output_type": "display_data"
    },
    {
     "data": {
      "image/png": "[encoded data removed]",
      "text/plain": [
       "<matplotlib.figure.Figure at 0x15944b320>"
      ]
     },
     "metadata": {},
     "output_type": "display_data"
    }
   ],
   "source": [
    "yr = init.resample(\"A\").sum()\n",
    "yr['msno'].plot(kind='bar')\n",
    "yr['ratio'] = round((yr['msno'] / 1431009) * 100, 4)\n",
    "#print(yr)\n",
    "plt.show()\n",
    "\n",
    "trans['trans_mth'] = trans['transaction_date'].dt.month\n",
    "\n",
    "mth = trans.groupby('trans_mth').agg('count')\n",
    "mth['ratio'] = round((mth['msno'] / 1431009) * 100, 4)\n",
    "#print(mth)\n",
    "mth['msno'].plot(kind='bar')\n",
    "plt.show()\n",
    "\n",
    "trans['trans_day'] = trans['transaction_date'].dt.day\n",
    "\n",
    "day = trans.groupby('trans_day').agg('count')\n",
    "day['ratio'] = round((day['msno'] / 1431009) * 100, 4)\n",
    "#print(day)\n",
    "day['msno'].plot(kind='bar')\n",
    "plt.show()"
   ]
  },
  {
   "cell_type": "code",
   "execution_count": 66,
   "metadata": {
    "collapsed": true
   },
   "outputs": [],
   "source": [
    "del trans['trans_mth']\n",
    "del trans['trans_day']"
   ]
  },
  {
   "cell_type": "code",
   "execution_count": 67,
   "metadata": {},
   "outputs": [
    {
     "name": "stdout",
     "output_type": "stream",
     "text": [
      "20160419\n",
      "20361015\n"
     ]
    }
   ],
   "source": [
    "df = trans['membership_expire_date']\n",
    "print(df.min())\n",
    "print(df.max())"
   ]
  },
  {
   "cell_type": "code",
   "execution_count": 68,
   "metadata": {
    "scrolled": false
   },
   "outputs": [
    {
     "data": {
      "image/png": "[encoded data removed]",
      "text/plain": [
       "<matplotlib.figure.Figure at 0x147160470>"
      ]
     },
     "metadata": {},
     "output_type": "display_data"
    },
    {
     "data": {
      "image/png": "[encoded data removed]",
      "text/plain": [
       "<matplotlib.figure.Figure at 0x1084f3f60>"
      ]
     },
     "metadata": {},
     "output_type": "display_data"
    },
    {
     "data": {
      "image/png": "[encoded data removed]",
      "text/plain": [
       "<matplotlib.figure.Figure at 0x1097f8860>"
      ]
     },
     "metadata": {},
     "output_type": "display_data"
    },
    {
     "data": {
      "image/png": "[encoded data removed]",
      "text/plain": [
       "<matplotlib.figure.Figure at 0x108508cc0>"
      ]
     },
     "metadata": {},
     "output_type": "display_data"
    }
   ],
   "source": [
    "trans['membership_expire_date'] = pd.to_datetime(trans['membership_expire_date'], format='%Y%m%d')\n",
    "\n",
    "init = trans.groupby('membership_expire_date').agg('count')\n",
    "init['ratio'] = round((init['msno'] / 1431009) * 100, 4)\n",
    "\n",
    "init['msno'].plot()\n",
    "plt.show()\n",
    "\n",
    "yr = init.resample(\"A\").sum()\n",
    "yr['msno'].plot(kind='bar')\n",
    "yr['ratio'] = round((yr['msno'] / 1431009) * 100, 4)\n",
    "#print(yr)\n",
    "plt.show()\n",
    "\n",
    "trans['exp_mth'] = trans['membership_expire_date'].dt.month\n",
    "\n",
    "mth = trans.groupby('exp_mth').agg('count')\n",
    "mth['ratio'] = round((mth['msno'] / 1431009) * 100, 4)\n",
    "#print(mth)\n",
    "mth['msno'].plot(kind='bar')\n",
    "plt.show()\n",
    "\n",
    "trans['exp_day'] = trans['membership_expire_date'].dt.day\n",
    "\n",
    "day = trans.groupby('exp_day').agg('count')\n",
    "day['ratio'] = round((day['msno'] / 1431009) * 100, 4)\n",
    "#print(day)\n",
    "day['msno'].plot(kind='bar')\n",
    "plt.show()"
   ]
  },
  {
   "cell_type": "code",
   "execution_count": 69,
   "metadata": {},
   "outputs": [
    {
     "name": "stdout",
     "output_type": "stream",
     "text": [
      "msno                      1481695\n",
      "payment_method_id         1481695\n",
      "payment_plan_days         1481695\n",
      "plan_list_price           1481695\n",
      "actual_amount_paid        1481695\n",
      "is_auto_renew             1481695\n",
      "transaction_date          1481695\n",
      "membership_expire_date    1481695\n",
      "is_cancel                 1481695\n",
      "transaction_count         1481695\n",
      "methods_used              1481695\n",
      "plans_used                1481695\n",
      "discount                  1481695\n",
      "percent_off               1431455\n",
      "exp_mth                   1481695\n",
      "exp_day                   1481695\n",
      "dtype: int64\n"
     ]
    }
   ],
   "source": [
    "df = trans[trans['membership_expire_date'] < '20171231 00:00:00']\n",
    "print(df.count())\n",
    "\n",
    "init = df.groupby('membership_expire_date').agg('count')\n"
   ]
  },
  {
   "cell_type": "code",
   "execution_count": 70,
   "metadata": {},
   "outputs": [
    {
     "data": {
      "image/png": "[encoded data removed]",
      "text/plain": [
       "<matplotlib.figure.Figure at 0x1820c2f60>"
      ]
     },
     "metadata": {},
     "output_type": "display_data"
    },
    {
     "data": {
      "image/png": "[encoded data removed]",
      "text/plain": [
       "<matplotlib.figure.Figure at 0x1080bc630>"
      ]
     },
     "metadata": {},
     "output_type": "display_data"
    },
    {
     "data": {
      "image/png": "[encoded data removed]",
      "text/plain": [
       "<matplotlib.figure.Figure at 0x10c508048>"
      ]
     },
     "metadata": {},
     "output_type": "display_data"
    },
    {
     "data": {
      "image/png": "[encoded data removed]",
      "text/plain": [
       "<matplotlib.figure.Figure at 0x10850e550>"
      ]
     },
     "metadata": {},
     "output_type": "display_data"
    }
   ],
   "source": [
    "init['ratio'] = round((init['msno'] / 1481695) * 100, 4)\n",
    "\n",
    "init['msno'].plot()\n",
    "plt.show()\n",
    "\n",
    "yr = init.resample(\"A\").sum()\n",
    "yr['msno'].plot(kind='bar')\n",
    "yr['ratio'] = round((yr['msno'] / 1431009) * 100, 4)\n",
    "#print(yr)\n",
    "plt.show()\n",
    "\n",
    "trans['exp_mth'] = trans['membership_expire_date'].dt.month\n",
    "\n",
    "mth = trans.groupby('exp_mth').agg('count')\n",
    "mth['ratio'] = round((mth['msno'] / 1431009) * 100, 4)\n",
    "#print(mth)\n",
    "mth['msno'].plot(kind='bar')\n",
    "plt.show()\n",
    "\n",
    "trans['exp_day'] = trans['membership_expire_date'].dt.day\n",
    "\n",
    "day = trans.groupby('exp_day').agg('count')\n",
    "day['ratio'] = round((day['msno'] / 1431009) * 100, 4)\n",
    "#print(day)\n",
    "day['msno'].plot(kind='bar')\n",
    "plt.show()"
   ]
  },
  {
   "cell_type": "code",
   "execution_count": 71,
   "metadata": {
    "collapsed": true
   },
   "outputs": [],
   "source": [
    "del trans['exp_mth']\n",
    "del trans['exp_day']"
   ]
  },
  {
   "cell_type": "code",
   "execution_count": 72,
   "metadata": {},
   "outputs": [
    {
     "data": {
      "text/html": [
       "<div>\n",
       "<style>\n",
       "    .dataframe thead tr:only-child th {\n",
       "        text-align: right;\n",
       "    }\n",
       "\n",
       "    .dataframe thead th {\n",
       "        text-align: left;\n",
       "    }\n",
       "\n",
       "    .dataframe tbody tr th {\n",
       "        vertical-align: top;\n",
       "    }\n",
       "</style>\n",
       "<table border=\"1\" class=\"dataframe\">\n",
       "  <thead>\n",
       "    <tr style=\"text-align: right;\">\n",
       "      <th></th>\n",
       "      <th>msno</th>\n",
       "      <th>payment_method_id</th>\n",
       "      <th>payment_plan_days</th>\n",
       "      <th>plan_list_price</th>\n",
       "      <th>actual_amount_paid</th>\n",
       "      <th>is_auto_renew</th>\n",
       "      <th>transaction_date</th>\n",
       "      <th>membership_expire_date</th>\n",
       "      <th>is_cancel</th>\n",
       "      <th>transaction_count</th>\n",
       "      <th>methods_used</th>\n",
       "      <th>plans_used</th>\n",
       "      <th>discount</th>\n",
       "      <th>percent_off</th>\n",
       "    </tr>\n",
       "  </thead>\n",
       "  <tbody>\n",
       "    <tr>\n",
       "      <th>0</th>\n",
       "      <td>+++IZseRRiQS9aaSkH6cMYU6bGDcxUieAi/tH67sC5s=</td>\n",
       "      <td>22</td>\n",
       "      <td>395</td>\n",
       "      <td>1599</td>\n",
       "      <td>1599</td>\n",
       "      <td>0</td>\n",
       "      <td>2016-10-23</td>\n",
       "      <td>2018-02-06</td>\n",
       "      <td>0</td>\n",
       "      <td>1</td>\n",
       "      <td>1</td>\n",
       "      <td>1</td>\n",
       "      <td>0</td>\n",
       "      <td>0.0</td>\n",
       "    </tr>\n",
       "    <tr>\n",
       "      <th>1</th>\n",
       "      <td>+++hVY1rZox/33YtvDgmKA2Frg/2qhkz12B9ylCvh8o=</td>\n",
       "      <td>41</td>\n",
       "      <td>30</td>\n",
       "      <td>99</td>\n",
       "      <td>99</td>\n",
       "      <td>1</td>\n",
       "      <td>2017-03-15</td>\n",
       "      <td>2017-04-15</td>\n",
       "      <td>0</td>\n",
       "      <td>1</td>\n",
       "      <td>1</td>\n",
       "      <td>1</td>\n",
       "      <td>0</td>\n",
       "      <td>0.0</td>\n",
       "    </tr>\n",
       "    <tr>\n",
       "      <th>2</th>\n",
       "      <td>+++l/EXNMLTijfLBa8p2TUVVVp2aFGSuUI/h7mLmthw=</td>\n",
       "      <td>39</td>\n",
       "      <td>30</td>\n",
       "      <td>149</td>\n",
       "      <td>149</td>\n",
       "      <td>1</td>\n",
       "      <td>2017-03-31</td>\n",
       "      <td>2017-05-19</td>\n",
       "      <td>0</td>\n",
       "      <td>2</td>\n",
       "      <td>1</td>\n",
       "      <td>1</td>\n",
       "      <td>0</td>\n",
       "      <td>0.0</td>\n",
       "    </tr>\n",
       "    <tr>\n",
       "      <th>3</th>\n",
       "      <td>+++l/EXNMLTijfLBa8p2TUVVVp2aFGSuUI/h7mLmthw=</td>\n",
       "      <td>39</td>\n",
       "      <td>30</td>\n",
       "      <td>149</td>\n",
       "      <td>149</td>\n",
       "      <td>1</td>\n",
       "      <td>2017-02-28</td>\n",
       "      <td>2017-04-19</td>\n",
       "      <td>0</td>\n",
       "      <td>2</td>\n",
       "      <td>1</td>\n",
       "      <td>1</td>\n",
       "      <td>0</td>\n",
       "      <td>0.0</td>\n",
       "    </tr>\n",
       "    <tr>\n",
       "      <th>4</th>\n",
       "      <td>+++snpr7pmobhLKUgSHTv/mpkqgBT0tQJ0zQj6qKrqc=</td>\n",
       "      <td>41</td>\n",
       "      <td>30</td>\n",
       "      <td>149</td>\n",
       "      <td>149</td>\n",
       "      <td>1</td>\n",
       "      <td>2017-03-26</td>\n",
       "      <td>2017-04-26</td>\n",
       "      <td>0</td>\n",
       "      <td>1</td>\n",
       "      <td>1</td>\n",
       "      <td>1</td>\n",
       "      <td>0</td>\n",
       "      <td>0.0</td>\n",
       "    </tr>\n",
       "  </tbody>\n",
       "</table>\n",
       "</div>"
      ],
      "text/plain": [
       "                                           msno  payment_method_id  \\\n",
       "0  +++IZseRRiQS9aaSkH6cMYU6bGDcxUieAi/tH67sC5s=                 22   \n",
       "1  +++hVY1rZox/33YtvDgmKA2Frg/2qhkz12B9ylCvh8o=                 41   \n",
       "2  +++l/EXNMLTijfLBa8p2TUVVVp2aFGSuUI/h7mLmthw=                 39   \n",
       "3  +++l/EXNMLTijfLBa8p2TUVVVp2aFGSuUI/h7mLmthw=                 39   \n",
       "4  +++snpr7pmobhLKUgSHTv/mpkqgBT0tQJ0zQj6qKrqc=                 41   \n",
       "\n",
       "   payment_plan_days  plan_list_price  actual_amount_paid  is_auto_renew  \\\n",
       "0                395             1599                1599              0   \n",
       "1                 30               99                  99              1   \n",
       "2                 30              149                 149              1   \n",
       "3                 30              149                 149              1   \n",
       "4                 30              149                 149              1   \n",
       "\n",
       "  transaction_date membership_expire_date  is_cancel  transaction_count  \\\n",
       "0       2016-10-23             2018-02-06          0                  1   \n",
       "1       2017-03-15             2017-04-15          0                  1   \n",
       "2       2017-03-31             2017-05-19          0                  2   \n",
       "3       2017-02-28             2017-04-19          0                  2   \n",
       "4       2017-03-26             2017-04-26          0                  1   \n",
       "\n",
       "   methods_used  plans_used  discount  percent_off  \n",
       "0             1           1         0          0.0  \n",
       "1             1           1         0          0.0  \n",
       "2             1           1         0          0.0  \n",
       "3             1           1         0          0.0  \n",
       "4             1           1         0          0.0  "
      ]
     },
     "execution_count": 72,
     "metadata": {},
     "output_type": "execute_result"
    }
   ],
   "source": [
    "trans.head()"
   ]
  },
  {
   "cell_type": "code",
   "execution_count": 73,
   "metadata": {},
   "outputs": [
    {
     "data": {
      "image/png": "[encoded data removed]",
      "text/plain": [
       "<matplotlib.figure.Figure at 0x10884c278>"
      ]
     },
     "metadata": {},
     "output_type": "display_data"
    }
   ],
   "source": [
    "x = df.groupby('transaction_date').agg('count')\n",
    "x['msno'].plot(color='b')\n",
    "\n",
    "y = df.groupby('membership_expire_date').agg('count')\n",
    "y['msno'].plot(color='r')\n",
    "\n",
    "plt.show()"
   ]
  },
  {
   "cell_type": "code",
   "execution_count": 74,
   "metadata": {},
   "outputs": [
    {
     "name": "stdout",
     "output_type": "stream",
     "text": [
      "<class 'pandas.core.frame.DataFrame'>\n",
      "Int64Index: 1612890 entries, 0 to 1612889\n",
      "Data columns (total 14 columns):\n",
      "msno                      1612890 non-null object\n",
      "payment_method_id         1612890 non-null int64\n",
      "payment_plan_days         1612890 non-null int64\n",
      "plan_list_price           1612890 non-null int64\n",
      "actual_amount_paid        1612890 non-null int64\n",
      "is_auto_renew             1612890 non-null int64\n",
      "transaction_date          1612890 non-null datetime64[ns]\n",
      "membership_expire_date    1612890 non-null datetime64[ns]\n",
      "is_cancel                 1612890 non-null int64\n",
      "transaction_count         1612890 non-null int64\n",
      "methods_used              1612890 non-null int64\n",
      "plans_used                1612890 non-null int64\n",
      "discount                  1612890 non-null int64\n",
      "percent_off               1552517 non-null float64\n",
      "dtypes: datetime64[ns](2), float64(1), int64(10), object(1)\n",
      "memory usage: 184.6+ MB\n"
     ]
    }
   ],
   "source": [
    "trans.info()"
   ]
  },
  {
   "cell_type": "code",
   "execution_count": 75,
   "metadata": {
    "collapsed": true
   },
   "outputs": [],
   "source": [
    "trans.to_csv(\"transactions_new.csv\", index=False) \n",
    "transactions_path = '/Users/Pewelix/Documents/Data_Science/KKBox_Challenge/transactions_new.csv'\n",
    "trans = pd.read_csv(transactions_path)"
   ]
  },
  {
   "cell_type": "code",
   "execution_count": 76,
   "metadata": {},
   "outputs": [
    {
     "data": {
      "text/html": [
       "<div>\n",
       "<style>\n",
       "    .dataframe thead tr:only-child th {\n",
       "        text-align: right;\n",
       "    }\n",
       "\n",
       "    .dataframe thead th {\n",
       "        text-align: left;\n",
       "    }\n",
       "\n",
       "    .dataframe tbody tr th {\n",
       "        vertical-align: top;\n",
       "    }\n",
       "</style>\n",
       "<table border=\"1\" class=\"dataframe\">\n",
       "  <thead>\n",
       "    <tr style=\"text-align: right;\">\n",
       "      <th></th>\n",
       "      <th>msno</th>\n",
       "      <th>payment_method_id</th>\n",
       "      <th>payment_plan_days</th>\n",
       "      <th>plan_list_price</th>\n",
       "      <th>actual_amount_paid</th>\n",
       "      <th>is_auto_renew</th>\n",
       "      <th>transaction_date</th>\n",
       "      <th>membership_expire_date</th>\n",
       "      <th>is_cancel</th>\n",
       "      <th>transaction_count</th>\n",
       "      <th>methods_used</th>\n",
       "      <th>plans_used</th>\n",
       "      <th>discount</th>\n",
       "      <th>percent_off</th>\n",
       "    </tr>\n",
       "  </thead>\n",
       "  <tbody>\n",
       "    <tr>\n",
       "      <th>0</th>\n",
       "      <td>+++IZseRRiQS9aaSkH6cMYU6bGDcxUieAi/tH67sC5s=</td>\n",
       "      <td>22</td>\n",
       "      <td>395</td>\n",
       "      <td>1599</td>\n",
       "      <td>1599</td>\n",
       "      <td>0</td>\n",
       "      <td>2016-10-23</td>\n",
       "      <td>2018-02-06</td>\n",
       "      <td>0</td>\n",
       "      <td>1</td>\n",
       "      <td>1</td>\n",
       "      <td>1</td>\n",
       "      <td>0</td>\n",
       "      <td>0.0</td>\n",
       "    </tr>\n",
       "    <tr>\n",
       "      <th>1</th>\n",
       "      <td>+++hVY1rZox/33YtvDgmKA2Frg/2qhkz12B9ylCvh8o=</td>\n",
       "      <td>41</td>\n",
       "      <td>30</td>\n",
       "      <td>99</td>\n",
       "      <td>99</td>\n",
       "      <td>1</td>\n",
       "      <td>2017-03-15</td>\n",
       "      <td>2017-04-15</td>\n",
       "      <td>0</td>\n",
       "      <td>1</td>\n",
       "      <td>1</td>\n",
       "      <td>1</td>\n",
       "      <td>0</td>\n",
       "      <td>0.0</td>\n",
       "    </tr>\n",
       "    <tr>\n",
       "      <th>2</th>\n",
       "      <td>+++l/EXNMLTijfLBa8p2TUVVVp2aFGSuUI/h7mLmthw=</td>\n",
       "      <td>39</td>\n",
       "      <td>30</td>\n",
       "      <td>149</td>\n",
       "      <td>149</td>\n",
       "      <td>1</td>\n",
       "      <td>2017-03-31</td>\n",
       "      <td>2017-05-19</td>\n",
       "      <td>0</td>\n",
       "      <td>2</td>\n",
       "      <td>1</td>\n",
       "      <td>1</td>\n",
       "      <td>0</td>\n",
       "      <td>0.0</td>\n",
       "    </tr>\n",
       "    <tr>\n",
       "      <th>3</th>\n",
       "      <td>+++l/EXNMLTijfLBa8p2TUVVVp2aFGSuUI/h7mLmthw=</td>\n",
       "      <td>39</td>\n",
       "      <td>30</td>\n",
       "      <td>149</td>\n",
       "      <td>149</td>\n",
       "      <td>1</td>\n",
       "      <td>2017-02-28</td>\n",
       "      <td>2017-04-19</td>\n",
       "      <td>0</td>\n",
       "      <td>2</td>\n",
       "      <td>1</td>\n",
       "      <td>1</td>\n",
       "      <td>0</td>\n",
       "      <td>0.0</td>\n",
       "    </tr>\n",
       "    <tr>\n",
       "      <th>4</th>\n",
       "      <td>+++snpr7pmobhLKUgSHTv/mpkqgBT0tQJ0zQj6qKrqc=</td>\n",
       "      <td>41</td>\n",
       "      <td>30</td>\n",
       "      <td>149</td>\n",
       "      <td>149</td>\n",
       "      <td>1</td>\n",
       "      <td>2017-03-26</td>\n",
       "      <td>2017-04-26</td>\n",
       "      <td>0</td>\n",
       "      <td>1</td>\n",
       "      <td>1</td>\n",
       "      <td>1</td>\n",
       "      <td>0</td>\n",
       "      <td>0.0</td>\n",
       "    </tr>\n",
       "  </tbody>\n",
       "</table>\n",
       "</div>"
      ],
      "text/plain": [
       "                                           msno  payment_method_id  \\\n",
       "0  +++IZseRRiQS9aaSkH6cMYU6bGDcxUieAi/tH67sC5s=                 22   \n",
       "1  +++hVY1rZox/33YtvDgmKA2Frg/2qhkz12B9ylCvh8o=                 41   \n",
       "2  +++l/EXNMLTijfLBa8p2TUVVVp2aFGSuUI/h7mLmthw=                 39   \n",
       "3  +++l/EXNMLTijfLBa8p2TUVVVp2aFGSuUI/h7mLmthw=                 39   \n",
       "4  +++snpr7pmobhLKUgSHTv/mpkqgBT0tQJ0zQj6qKrqc=                 41   \n",
       "\n",
       "   payment_plan_days  plan_list_price  actual_amount_paid  is_auto_renew  \\\n",
       "0                395             1599                1599              0   \n",
       "1                 30               99                  99              1   \n",
       "2                 30              149                 149              1   \n",
       "3                 30              149                 149              1   \n",
       "4                 30              149                 149              1   \n",
       "\n",
       "  transaction_date membership_expire_date  is_cancel  transaction_count  \\\n",
       "0       2016-10-23             2018-02-06          0                  1   \n",
       "1       2017-03-15             2017-04-15          0                  1   \n",
       "2       2017-03-31             2017-05-19          0                  2   \n",
       "3       2017-02-28             2017-04-19          0                  2   \n",
       "4       2017-03-26             2017-04-26          0                  1   \n",
       "\n",
       "   methods_used  plans_used  discount  percent_off  \n",
       "0             1           1         0          0.0  \n",
       "1             1           1         0          0.0  \n",
       "2             1           1         0          0.0  \n",
       "3             1           1         0          0.0  \n",
       "4             1           1         0          0.0  "
      ]
     },
     "execution_count": 76,
     "metadata": {},
     "output_type": "execute_result"
    }
   ],
   "source": [
    "trans.head()"
   ]
  },
  {
   "cell_type": "code",
   "execution_count": 2,
   "metadata": {
    "collapsed": true
   },
   "outputs": [],
   "source": [
    "user_logs_path = '/Users/Pewelix/Documents/Data_Science/KKBox_Challenge/user_logs_v2.csv'\n",
    "logs = pd.read_csv(user_logs_path)"
   ]
  },
  {
   "cell_type": "code",
   "execution_count": 3,
   "metadata": {},
   "outputs": [
    {
     "name": "stdout",
     "output_type": "stream",
     "text": [
      "<class 'pandas.core.frame.DataFrame'>\n",
      "RangeIndex: 18396362 entries, 0 to 18396361\n",
      "Data columns (total 9 columns):\n",
      "msno          object\n",
      "date          int64\n",
      "num_25        int64\n",
      "num_50        int64\n",
      "num_75        int64\n",
      "num_985       int64\n",
      "num_100       int64\n",
      "num_unq       int64\n",
      "total_secs    float64\n",
      "dtypes: float64(1), int64(7), object(1)\n",
      "memory usage: 1.2+ GB\n"
     ]
    }
   ],
   "source": [
    "logs.info()"
   ]
  },
  {
   "cell_type": "code",
   "execution_count": 4,
   "metadata": {},
   "outputs": [
    {
     "data": {
      "text/html": [
       "<div>\n",
       "<style>\n",
       "    .dataframe thead tr:only-child th {\n",
       "        text-align: right;\n",
       "    }\n",
       "\n",
       "    .dataframe thead th {\n",
       "        text-align: left;\n",
       "    }\n",
       "\n",
       "    .dataframe tbody tr th {\n",
       "        vertical-align: top;\n",
       "    }\n",
       "</style>\n",
       "<table border=\"1\" class=\"dataframe\">\n",
       "  <thead>\n",
       "    <tr style=\"text-align: right;\">\n",
       "      <th></th>\n",
       "      <th>date</th>\n",
       "      <th>num_25</th>\n",
       "      <th>num_50</th>\n",
       "      <th>num_75</th>\n",
       "      <th>num_985</th>\n",
       "      <th>num_100</th>\n",
       "      <th>num_unq</th>\n",
       "      <th>total_secs</th>\n",
       "    </tr>\n",
       "  </thead>\n",
       "  <tbody>\n",
       "    <tr>\n",
       "      <th>count</th>\n",
       "      <td>1.839636e+07</td>\n",
       "      <td>1.839636e+07</td>\n",
       "      <td>1.839636e+07</td>\n",
       "      <td>1.839636e+07</td>\n",
       "      <td>1.839636e+07</td>\n",
       "      <td>1.839636e+07</td>\n",
       "      <td>1.839636e+07</td>\n",
       "      <td>1.839636e+07</td>\n",
       "    </tr>\n",
       "    <tr>\n",
       "      <th>mean</th>\n",
       "      <td>2.017032e+07</td>\n",
       "      <td>6.191401e+00</td>\n",
       "      <td>1.508789e+00</td>\n",
       "      <td>9.413759e-01</td>\n",
       "      <td>1.079905e+00</td>\n",
       "      <td>3.028246e+01</td>\n",
       "      <td>2.903615e+01</td>\n",
       "      <td>7.904814e+03</td>\n",
       "    </tr>\n",
       "    <tr>\n",
       "      <th>std</th>\n",
       "      <td>8.916720e+00</td>\n",
       "      <td>1.342827e+01</td>\n",
       "      <td>3.908539e+00</td>\n",
       "      <td>1.924840e+00</td>\n",
       "      <td>3.518409e+00</td>\n",
       "      <td>4.203641e+01</td>\n",
       "      <td>3.219866e+01</td>\n",
       "      <td>1.013632e+04</td>\n",
       "    </tr>\n",
       "    <tr>\n",
       "      <th>min</th>\n",
       "      <td>2.017030e+07</td>\n",
       "      <td>0.000000e+00</td>\n",
       "      <td>0.000000e+00</td>\n",
       "      <td>0.000000e+00</td>\n",
       "      <td>0.000000e+00</td>\n",
       "      <td>0.000000e+00</td>\n",
       "      <td>1.000000e+00</td>\n",
       "      <td>1.000000e-03</td>\n",
       "    </tr>\n",
       "    <tr>\n",
       "      <th>25%</th>\n",
       "      <td>2.017031e+07</td>\n",
       "      <td>0.000000e+00</td>\n",
       "      <td>0.000000e+00</td>\n",
       "      <td>0.000000e+00</td>\n",
       "      <td>0.000000e+00</td>\n",
       "      <td>7.000000e+00</td>\n",
       "      <td>8.000000e+00</td>\n",
       "      <td>1.959944e+03</td>\n",
       "    </tr>\n",
       "    <tr>\n",
       "      <th>50%</th>\n",
       "      <td>2.017032e+07</td>\n",
       "      <td>2.000000e+00</td>\n",
       "      <td>1.000000e+00</td>\n",
       "      <td>0.000000e+00</td>\n",
       "      <td>0.000000e+00</td>\n",
       "      <td>1.700000e+01</td>\n",
       "      <td>1.800000e+01</td>\n",
       "      <td>4.582990e+03</td>\n",
       "    </tr>\n",
       "    <tr>\n",
       "      <th>75%</th>\n",
       "      <td>2.017032e+07</td>\n",
       "      <td>7.000000e+00</td>\n",
       "      <td>2.000000e+00</td>\n",
       "      <td>1.000000e+00</td>\n",
       "      <td>1.000000e+00</td>\n",
       "      <td>3.700000e+01</td>\n",
       "      <td>3.800000e+01</td>\n",
       "      <td>9.848441e+03</td>\n",
       "    </tr>\n",
       "    <tr>\n",
       "      <th>max</th>\n",
       "      <td>2.017033e+07</td>\n",
       "      <td>5.639000e+03</td>\n",
       "      <td>9.120000e+02</td>\n",
       "      <td>5.080000e+02</td>\n",
       "      <td>1.561000e+03</td>\n",
       "      <td>4.110700e+04</td>\n",
       "      <td>4.925000e+03</td>\n",
       "      <td>9.194059e+06</td>\n",
       "    </tr>\n",
       "  </tbody>\n",
       "</table>\n",
       "</div>"
      ],
      "text/plain": [
       "               date        num_25        num_50        num_75       num_985  \\\n",
       "count  1.839636e+07  1.839636e+07  1.839636e+07  1.839636e+07  1.839636e+07   \n",
       "mean   2.017032e+07  6.191401e+00  1.508789e+00  9.413759e-01  1.079905e+00   \n",
       "std    8.916720e+00  1.342827e+01  3.908539e+00  1.924840e+00  3.518409e+00   \n",
       "min    2.017030e+07  0.000000e+00  0.000000e+00  0.000000e+00  0.000000e+00   \n",
       "25%    2.017031e+07  0.000000e+00  0.000000e+00  0.000000e+00  0.000000e+00   \n",
       "50%    2.017032e+07  2.000000e+00  1.000000e+00  0.000000e+00  0.000000e+00   \n",
       "75%    2.017032e+07  7.000000e+00  2.000000e+00  1.000000e+00  1.000000e+00   \n",
       "max    2.017033e+07  5.639000e+03  9.120000e+02  5.080000e+02  1.561000e+03   \n",
       "\n",
       "            num_100       num_unq    total_secs  \n",
       "count  1.839636e+07  1.839636e+07  1.839636e+07  \n",
       "mean   3.028246e+01  2.903615e+01  7.904814e+03  \n",
       "std    4.203641e+01  3.219866e+01  1.013632e+04  \n",
       "min    0.000000e+00  1.000000e+00  1.000000e-03  \n",
       "25%    7.000000e+00  8.000000e+00  1.959944e+03  \n",
       "50%    1.700000e+01  1.800000e+01  4.582990e+03  \n",
       "75%    3.700000e+01  3.800000e+01  9.848441e+03  \n",
       "max    4.110700e+04  4.925000e+03  9.194059e+06  "
      ]
     },
     "execution_count": 4,
     "metadata": {},
     "output_type": "execute_result"
    }
   ],
   "source": [
    "logs.describe()"
   ]
  },
  {
   "cell_type": "code",
   "execution_count": 5,
   "metadata": {},
   "outputs": [
    {
     "data": {
      "text/plain": [
       "Index(['msno', 'date', 'num_25', 'num_50', 'num_75', 'num_985', 'num_100',\n",
       "       'num_unq', 'total_secs'],\n",
       "      dtype='object')"
      ]
     },
     "execution_count": 5,
     "metadata": {},
     "output_type": "execute_result"
    }
   ],
   "source": [
    "logs.columns"
   ]
  },
  {
   "cell_type": "code",
   "execution_count": 6,
   "metadata": {},
   "outputs": [
    {
     "data": {
      "text/plain": [
       "msno          0\n",
       "date          0\n",
       "num_25        0\n",
       "num_50        0\n",
       "num_75        0\n",
       "num_985       0\n",
       "num_100       0\n",
       "num_unq       0\n",
       "total_secs    0\n",
       "dtype: int64"
      ]
     },
     "execution_count": 6,
     "metadata": {},
     "output_type": "execute_result"
    }
   ],
   "source": [
    "logs.isnull().sum()"
   ]
  },
  {
   "cell_type": "code",
   "execution_count": 7,
   "metadata": {},
   "outputs": [
    {
     "data": {
      "text/plain": [
       "0"
      ]
     },
     "execution_count": 7,
     "metadata": {},
     "output_type": "execute_result"
    }
   ],
   "source": [
    "logs.duplicated().sum()"
   ]
  },
  {
   "cell_type": "code",
   "execution_count": 8,
   "metadata": {},
   "outputs": [
    {
     "data": {
      "text/plain": [
       "count                                         18396362\n",
       "unique                                         1103894\n",
       "top       5CYHqYHFgh3Q30mHbff1bdYjSJKTmaAkSXZI/Hb+nTo=\n",
       "freq                                                31\n",
       "Name: msno, dtype: object"
      ]
     },
     "execution_count": 8,
     "metadata": {},
     "output_type": "execute_result"
    }
   ],
   "source": [
    "logs['msno'].describe()"
   ]
  },
  {
   "cell_type": "code",
   "execution_count": 9,
   "metadata": {},
   "outputs": [
    {
     "name": "stdout",
     "output_type": "stream",
     "text": [
      "20170301\n",
      "20170331\n"
     ]
    }
   ],
   "source": [
    "df = logs['date']\n",
    "print(df.min())\n",
    "print(df.max())"
   ]
  },
  {
   "cell_type": "code",
   "execution_count": 10,
   "metadata": {
    "collapsed": true
   },
   "outputs": [],
   "source": [
    "logs['log_count'] = logs.groupby('msno')['msno'].transform('count')"
   ]
  },
  {
   "cell_type": "code",
   "execution_count": 11,
   "metadata": {},
   "outputs": [
    {
     "data": {
      "image/png": "[encoded data removed]",
      "text/plain": [
       "<matplotlib.figure.Figure at 0x16b850ba8>"
      ]
     },
     "metadata": {},
     "output_type": "display_data"
    }
   ],
   "source": [
    "init = logs.groupby('log_count').agg('count')\n",
    "\n",
    "init['msno'].plot()\n",
    "plt.show()"
   ]
  },
  {
   "cell_type": "code",
   "execution_count": 12,
   "metadata": {
    "collapsed": true
   },
   "outputs": [],
   "source": [
    "logs['log_total_songs'] = logs['num_25'] + logs['num_50'] + logs['num_75'] + logs['num_985'] + logs['num_100']"
   ]
  },
  {
   "cell_type": "code",
   "execution_count": 13,
   "metadata": {
    "collapsed": true
   },
   "outputs": [],
   "source": [
    "logs = logs.sort_values(['msno', 'date'])"
   ]
  },
  {
   "cell_type": "code",
   "execution_count": 14,
   "metadata": {
    "collapsed": true
   },
   "outputs": [],
   "source": [
    "logs['march_25'] = logs.groupby('msno')['num_25'].transform('sum')\n",
    "logs['march_50'] = logs.groupby('msno')['num_50'].transform('sum')\n",
    "logs['march_75'] = logs.groupby('msno')['num_75'].transform('sum')\n",
    "logs['march_985'] = logs.groupby('msno')['num_985'].transform('sum')\n",
    "logs['march_100'] = logs.groupby('msno')['num_100'].transform('sum')"
   ]
  },
  {
   "cell_type": "code",
   "execution_count": 15,
   "metadata": {
    "collapsed": true
   },
   "outputs": [],
   "source": [
    "logs['less_50'] = logs['march_25'] + logs['march_50']\n",
    "logs['less_100'] = logs['less_50'] + logs['march_75'] + logs['march_985']"
   ]
  },
  {
   "cell_type": "code",
   "execution_count": 16,
   "metadata": {
    "collapsed": true
   },
   "outputs": [],
   "source": [
    "logs['march_unq'] = logs.groupby('msno')['num_unq'].transform('sum')"
   ]
  },
  {
   "cell_type": "code",
   "execution_count": 17,
   "metadata": {
    "collapsed": true
   },
   "outputs": [],
   "source": [
    "logs['march_total_songs'] = logs.march_25 + logs.march_50 + logs.march_75 + logs.march_985 + logs.march_100 "
   ]
  },
  {
   "cell_type": "code",
   "execution_count": 18,
   "metadata": {
    "collapsed": true
   },
   "outputs": [],
   "source": [
    "logs['march_total_secs'] = logs.groupby('msno')['total_secs'].transform('sum')"
   ]
  },
  {
   "cell_type": "code",
   "execution_count": 19,
   "metadata": {
    "collapsed": true
   },
   "outputs": [],
   "source": [
    "logs['repeated_songs'] = logs['march_total_songs'] - logs['march_unq']"
   ]
  },
  {
   "cell_type": "code",
   "execution_count": 20,
   "metadata": {
    "collapsed": true
   },
   "outputs": [],
   "source": [
    "logs['avg_unq_songs'] = round(logs['march_unq'] / logs['log_count'])"
   ]
  },
  {
   "cell_type": "code",
   "execution_count": 21,
   "metadata": {
    "collapsed": true
   },
   "outputs": [],
   "source": [
    "logs['p_less_50'] = round((logs.less_50 / logs.march_total_songs) * 100)\n",
    "logs['p_less_100'] = round((logs.less_100 / logs.march_total_songs) * 100)"
   ]
  },
  {
   "cell_type": "code",
   "execution_count": 22,
   "metadata": {
    "scrolled": false
   },
   "outputs": [
    {
     "data": {
      "image/png": "[encoded data removed]",
      "text/plain": [
       "<matplotlib.figure.Figure at 0x10be3ca20>"
      ]
     },
     "metadata": {},
     "output_type": "display_data"
    }
   ],
   "source": [
    "logs['date'] = pd.to_datetime(logs['date'], format='%Y%m%d')\n",
    "\n",
    "init = logs.groupby('date').agg('count')\n",
    "\n",
    "init['msno'].plot()\n",
    "#print(init['msno'])\n",
    "plt.show()"
   ]
  },
  {
   "cell_type": "code",
   "execution_count": 23,
   "metadata": {},
   "outputs": [
    {
     "data": {
      "text/html": [
       "<div>\n",
       "<style>\n",
       "    .dataframe thead tr:only-child th {\n",
       "        text-align: right;\n",
       "    }\n",
       "\n",
       "    .dataframe thead th {\n",
       "        text-align: left;\n",
       "    }\n",
       "\n",
       "    .dataframe tbody tr th {\n",
       "        vertical-align: top;\n",
       "    }\n",
       "</style>\n",
       "<table border=\"1\" class=\"dataframe\">\n",
       "  <thead>\n",
       "    <tr style=\"text-align: right;\">\n",
       "      <th></th>\n",
       "      <th>msno</th>\n",
       "      <th>date</th>\n",
       "      <th>num_25</th>\n",
       "      <th>num_50</th>\n",
       "      <th>num_75</th>\n",
       "      <th>num_985</th>\n",
       "      <th>num_100</th>\n",
       "      <th>num_unq</th>\n",
       "      <th>total_secs</th>\n",
       "      <th>log_count</th>\n",
       "      <th>...</th>\n",
       "      <th>march_100</th>\n",
       "      <th>less_50</th>\n",
       "      <th>less_100</th>\n",
       "      <th>march_unq</th>\n",
       "      <th>march_total_songs</th>\n",
       "      <th>march_total_secs</th>\n",
       "      <th>repeated_songs</th>\n",
       "      <th>avg_unq_songs</th>\n",
       "      <th>p_less_50</th>\n",
       "      <th>p_less_100</th>\n",
       "    </tr>\n",
       "  </thead>\n",
       "  <tbody>\n",
       "    <tr>\n",
       "      <th>480071</th>\n",
       "      <td>+++IZseRRiQS9aaSkH6cMYU6bGDcxUieAi/tH67sC5s=</td>\n",
       "      <td>2017-03-31</td>\n",
       "      <td>2</td>\n",
       "      <td>1</td>\n",
       "      <td>1</td>\n",
       "      <td>0</td>\n",
       "      <td>11</td>\n",
       "      <td>15</td>\n",
       "      <td>2823.625</td>\n",
       "      <td>26</td>\n",
       "      <td>...</td>\n",
       "      <td>472</td>\n",
       "      <td>97</td>\n",
       "      <td>112</td>\n",
       "      <td>530</td>\n",
       "      <td>584</td>\n",
       "      <td>117907.425</td>\n",
       "      <td>54</td>\n",
       "      <td>20.0</td>\n",
       "      <td>17.0</td>\n",
       "      <td>19.0</td>\n",
       "    </tr>\n",
       "    <tr>\n",
       "      <th>7093347</th>\n",
       "      <td>+++hVY1rZox/33YtvDgmKA2Frg/2qhkz12B9ylCvh8o=</td>\n",
       "      <td>2017-03-31</td>\n",
       "      <td>16</td>\n",
       "      <td>12</td>\n",
       "      <td>5</td>\n",
       "      <td>12</td>\n",
       "      <td>39</td>\n",
       "      <td>51</td>\n",
       "      <td>14239.044</td>\n",
       "      <td>31</td>\n",
       "      <td>...</td>\n",
       "      <td>589</td>\n",
       "      <td>281</td>\n",
       "      <td>500</td>\n",
       "      <td>885</td>\n",
       "      <td>1089</td>\n",
       "      <td>192527.892</td>\n",
       "      <td>204</td>\n",
       "      <td>29.0</td>\n",
       "      <td>26.0</td>\n",
       "      <td>46.0</td>\n",
       "    </tr>\n",
       "    <tr>\n",
       "      <th>1701499</th>\n",
       "      <td>+++l/EXNMLTijfLBa8p2TUVVVp2aFGSuUI/h7mLmthw=</td>\n",
       "      <td>2017-03-31</td>\n",
       "      <td>0</td>\n",
       "      <td>0</td>\n",
       "      <td>0</td>\n",
       "      <td>0</td>\n",
       "      <td>5</td>\n",
       "      <td>5</td>\n",
       "      <td>1287.132</td>\n",
       "      <td>28</td>\n",
       "      <td>...</td>\n",
       "      <td>485</td>\n",
       "      <td>55</td>\n",
       "      <td>82</td>\n",
       "      <td>468</td>\n",
       "      <td>567</td>\n",
       "      <td>115411.260</td>\n",
       "      <td>99</td>\n",
       "      <td>17.0</td>\n",
       "      <td>10.0</td>\n",
       "      <td>14.0</td>\n",
       "    </tr>\n",
       "    <tr>\n",
       "      <th>9957660</th>\n",
       "      <td>+++snpr7pmobhLKUgSHTv/mpkqgBT0tQJ0zQj6qKrqc=</td>\n",
       "      <td>2017-03-30</td>\n",
       "      <td>9</td>\n",
       "      <td>2</td>\n",
       "      <td>2</td>\n",
       "      <td>1</td>\n",
       "      <td>18</td>\n",
       "      <td>18</td>\n",
       "      <td>4921.827</td>\n",
       "      <td>21</td>\n",
       "      <td>...</td>\n",
       "      <td>436</td>\n",
       "      <td>370</td>\n",
       "      <td>534</td>\n",
       "      <td>828</td>\n",
       "      <td>970</td>\n",
       "      <td>149896.558</td>\n",
       "      <td>142</td>\n",
       "      <td>39.0</td>\n",
       "      <td>38.0</td>\n",
       "      <td>55.0</td>\n",
       "    </tr>\n",
       "    <tr>\n",
       "      <th>14955025</th>\n",
       "      <td>++/9R3sX37CjxbY/AaGvbwr3QkwElKBCtSvVzhCBDOk=</td>\n",
       "      <td>2017-03-31</td>\n",
       "      <td>2</td>\n",
       "      <td>2</td>\n",
       "      <td>1</td>\n",
       "      <td>1</td>\n",
       "      <td>10</td>\n",
       "      <td>4</td>\n",
       "      <td>3266.534</td>\n",
       "      <td>29</td>\n",
       "      <td>...</td>\n",
       "      <td>479</td>\n",
       "      <td>129</td>\n",
       "      <td>203</td>\n",
       "      <td>230</td>\n",
       "      <td>682</td>\n",
       "      <td>116433.247</td>\n",
       "      <td>452</td>\n",
       "      <td>8.0</td>\n",
       "      <td>19.0</td>\n",
       "      <td>30.0</td>\n",
       "    </tr>\n",
       "  </tbody>\n",
       "</table>\n",
       "<p>5 rows × 25 columns</p>\n",
       "</div>"
      ],
      "text/plain": [
       "                                                  msno       date  num_25  \\\n",
       "480071    +++IZseRRiQS9aaSkH6cMYU6bGDcxUieAi/tH67sC5s= 2017-03-31       2   \n",
       "7093347   +++hVY1rZox/33YtvDgmKA2Frg/2qhkz12B9ylCvh8o= 2017-03-31      16   \n",
       "1701499   +++l/EXNMLTijfLBa8p2TUVVVp2aFGSuUI/h7mLmthw= 2017-03-31       0   \n",
       "9957660   +++snpr7pmobhLKUgSHTv/mpkqgBT0tQJ0zQj6qKrqc= 2017-03-30       9   \n",
       "14955025  ++/9R3sX37CjxbY/AaGvbwr3QkwElKBCtSvVzhCBDOk= 2017-03-31       2   \n",
       "\n",
       "          num_50  num_75  num_985  num_100  num_unq  total_secs  log_count  \\\n",
       "480071         1       1        0       11       15    2823.625         26   \n",
       "7093347       12       5       12       39       51   14239.044         31   \n",
       "1701499        0       0        0        5        5    1287.132         28   \n",
       "9957660        2       2        1       18       18    4921.827         21   \n",
       "14955025       2       1        1       10        4    3266.534         29   \n",
       "\n",
       "             ...      march_100  less_50  less_100  march_unq  \\\n",
       "480071       ...            472       97       112        530   \n",
       "7093347      ...            589      281       500        885   \n",
       "1701499      ...            485       55        82        468   \n",
       "9957660      ...            436      370       534        828   \n",
       "14955025     ...            479      129       203        230   \n",
       "\n",
       "          march_total_songs  march_total_secs  repeated_songs  avg_unq_songs  \\\n",
       "480071                  584        117907.425              54           20.0   \n",
       "7093347                1089        192527.892             204           29.0   \n",
       "1701499                 567        115411.260              99           17.0   \n",
       "9957660                 970        149896.558             142           39.0   \n",
       "14955025                682        116433.247             452            8.0   \n",
       "\n",
       "          p_less_50  p_less_100  \n",
       "480071         17.0        19.0  \n",
       "7093347        26.0        46.0  \n",
       "1701499        10.0        14.0  \n",
       "9957660        38.0        55.0  \n",
       "14955025       19.0        30.0  \n",
       "\n",
       "[5 rows x 25 columns]"
      ]
     },
     "execution_count": 23,
     "metadata": {},
     "output_type": "execute_result"
    }
   ],
   "source": [
    "df = logs.drop_duplicates('msno', keep='last')\n",
    "df.head()"
   ]
  },
  {
   "cell_type": "code",
   "execution_count": 24,
   "metadata": {},
   "outputs": [
    {
     "data": {
      "image/png": "[encoded data removed]",
      "text/plain": [
       "<matplotlib.figure.Figure at 0x10be9fe80>"
      ]
     },
     "metadata": {},
     "output_type": "display_data"
    }
   ],
   "source": [
    "df['march_25'].plot(kind='box')\n",
    "plt.title('march_25 Frequency')\n",
    "plt.xlabel('march_25')\n",
    "plt.show()"
   ]
  },
  {
   "cell_type": "code",
   "execution_count": 25,
   "metadata": {},
   "outputs": [
    {
     "data": {
      "image/png": "[encoded data removed]",
      "text/plain": [
       "<matplotlib.figure.Figure at 0x1613adc88>"
      ]
     },
     "metadata": {},
     "output_type": "display_data"
    }
   ],
   "source": [
    "df['march_25'].plot(kind='box')\n",
    "plt.title('march_25 Frequency')\n",
    "plt.xlabel('march_25')\n",
    "plt.show()"
   ]
  },
  {
   "cell_type": "code",
   "execution_count": 26,
   "metadata": {},
   "outputs": [
    {
     "data": {
      "image/png": "[encoded data removed]",
      "text/plain": [
       "<matplotlib.figure.Figure at 0x119f95e48>"
      ]
     },
     "metadata": {},
     "output_type": "display_data"
    }
   ],
   "source": [
    "plt.figure(figsize=(5,10))\n",
    "df['march_50'].plot(kind='box')\n",
    "plt.title('march_50 Frequency')\n",
    "plt.xlabel('march_50')\n",
    "plt.show()"
   ]
  },
  {
   "cell_type": "code",
   "execution_count": 27,
   "metadata": {},
   "outputs": [
    {
     "data": {
      "image/png": "[encoded data removed]",
      "text/plain": [
       "<matplotlib.figure.Figure at 0x11ab69e48>"
      ]
     },
     "metadata": {},
     "output_type": "display_data"
    }
   ],
   "source": [
    "plt.figure(figsize=(5,10))\n",
    "df['march_75'].plot(kind='box')\n",
    "plt.title('march_75 Frequency')\n",
    "plt.xlabel('march_75')\n",
    "plt.show()"
   ]
  },
  {
   "cell_type": "code",
   "execution_count": 28,
   "metadata": {},
   "outputs": [
    {
     "data": {
      "image/png": "[encoded data removed]",
      "text/plain": [
       "<matplotlib.figure.Figure at 0x11bd554a8>"
      ]
     },
     "metadata": {},
     "output_type": "display_data"
    }
   ],
   "source": [
    "plt.figure(figsize=(5,10))\n",
    "df['march_985'].plot(kind='box')\n",
    "plt.title('march_985 Frequency')\n",
    "plt.xlabel('march_985')\n",
    "plt.show()"
   ]
  },
  {
   "cell_type": "code",
   "execution_count": 29,
   "metadata": {},
   "outputs": [
    {
     "data": {
      "image/png": "[encoded data removed]",
      "text/plain": [
       "<matplotlib.figure.Figure at 0x11c7ba588>"
      ]
     },
     "metadata": {},
     "output_type": "display_data"
    }
   ],
   "source": [
    "plt.figure(figsize=(5,10))\n",
    "df['march_100'].plot(kind='box')\n",
    "plt.title('march_100 Frequency')\n",
    "plt.xlabel('march_100')\n",
    "plt.show()"
   ]
  },
  {
   "cell_type": "code",
   "execution_count": 30,
   "metadata": {},
   "outputs": [
    {
     "data": {
      "image/png": "[encoded data removed]",
      "text/plain": [
       "<matplotlib.figure.Figure at 0x11c7ba748>"
      ]
     },
     "metadata": {},
     "output_type": "display_data"
    }
   ],
   "source": [
    "init = logs.groupby('march_total_songs').agg('count')\n",
    "\n",
    "init['msno'].plot()\n",
    "#print(init['msno'])\n",
    "plt.show()"
   ]
  },
  {
   "cell_type": "code",
   "execution_count": 31,
   "metadata": {},
   "outputs": [
    {
     "data": {
      "image/png": "[encoded data removed]",
      "text/plain": [
       "<matplotlib.figure.Figure at 0x116b08ef0>"
      ]
     },
     "metadata": {},
     "output_type": "display_data"
    }
   ],
   "source": [
    "logs['march_total_secs'].plot(kind='hist', bins=20)\n",
    "plt.title('Total Seconds Played')\n",
    "plt.show()"
   ]
  },
  {
   "cell_type": "code",
   "execution_count": 32,
   "metadata": {},
   "outputs": [
    {
     "data": {
      "text/plain": [
       "Index(['msno', 'date', 'num_25', 'num_50', 'num_75', 'num_985', 'num_100',\n",
       "       'num_unq', 'total_secs', 'log_count', 'log_total_songs', 'march_25',\n",
       "       'march_50', 'march_75', 'march_985', 'march_100', 'less_50', 'less_100',\n",
       "       'march_unq', 'march_total_songs', 'march_total_secs', 'repeated_songs',\n",
       "       'avg_unq_songs', 'p_less_50', 'p_less_100'],\n",
       "      dtype='object')"
      ]
     },
     "execution_count": 32,
     "metadata": {},
     "output_type": "execute_result"
    }
   ],
   "source": [
    "logs.columns"
   ]
  },
  {
   "cell_type": "code",
   "execution_count": 33,
   "metadata": {},
   "outputs": [
    {
     "name": "stdout",
     "output_type": "stream",
     "text": [
      "<class 'pandas.core.frame.DataFrame'>\n",
      "Int64Index: 18396362 entries, 7571198 to 12952904\n",
      "Data columns (total 25 columns):\n",
      "msno                 object\n",
      "date                 datetime64[ns]\n",
      "num_25               int64\n",
      "num_50               int64\n",
      "num_75               int64\n",
      "num_985              int64\n",
      "num_100              int64\n",
      "num_unq              int64\n",
      "total_secs           float64\n",
      "log_count            int64\n",
      "log_total_songs      int64\n",
      "march_25             int64\n",
      "march_50             int64\n",
      "march_75             int64\n",
      "march_985            int64\n",
      "march_100            int64\n",
      "less_50              int64\n",
      "less_100             int64\n",
      "march_unq            int64\n",
      "march_total_songs    int64\n",
      "march_total_secs     float64\n",
      "repeated_songs       int64\n",
      "avg_unq_songs        float64\n",
      "p_less_50            float64\n",
      "p_less_100           float64\n",
      "dtypes: datetime64[ns](1), float64(5), int64(18), object(1)\n",
      "memory usage: 3.6+ GB\n"
     ]
    }
   ],
   "source": [
    "logs.info()"
   ]
  },
  {
   "cell_type": "code",
   "execution_count": 34,
   "metadata": {
    "collapsed": true
   },
   "outputs": [],
   "source": [
    "logs.to_csv('/Users/Pewelix/Documents/Data_Science/KKBox_Challenge/user_logs_new.csv')"
   ]
  },
  {
   "cell_type": "code",
   "execution_count": 35,
   "metadata": {
    "collapsed": true
   },
   "outputs": [],
   "source": [
    "user_logs_path = '/Users/Pewelix/Documents/Data_Science/KKBox_Challenge/user_logs_new.csv'\n",
    "logs = pd.read_csv(user_logs_path)"
   ]
  },
  {
   "cell_type": "code",
   "execution_count": 36,
   "metadata": {
    "collapsed": true
   },
   "outputs": [],
   "source": [
    "del logs['march_25']\n",
    "del logs['march_50']\n",
    "del logs['march_75']\n",
    "del logs['march_985']\n",
    "del logs['march_100']\n",
    "del logs['march_unq']\n",
    "del logs['march_total_songs']\n",
    "del logs['march_total_secs']\n",
    "del logs['repeated_songs']\n",
    "del logs['avg_unq_songs']\n",
    "del logs['less_50']\n",
    "del logs['less_100']\n",
    "del logs['p_less_50']\n",
    "del logs['p_less_100']"
   ]
  },
  {
   "cell_type": "code",
   "execution_count": 37,
   "metadata": {
    "collapsed": true
   },
   "outputs": [],
   "source": [
    "logs['date'] = pd.to_datetime(logs['date'], format='%Y-%m-%d')"
   ]
  },
  {
   "cell_type": "code",
   "execution_count": 38,
   "metadata": {
    "collapsed": true
   },
   "outputs": [],
   "source": [
    "logs = logs.set_index(\n",
    "    ['date', 'msno']\n",
    ").unstack(\n",
    "    fill_value=0\n",
    ").asfreq(\n",
    "    'D', fill_value=0\n",
    ").stack().sort_index(level=1).reset_index()"
   ]
  },
  {
   "cell_type": "code",
   "execution_count": 39,
   "metadata": {
    "collapsed": true
   },
   "outputs": [],
   "source": [
    "logs['day'] = logs['date'].astype(str).str[8:10]"
   ]
  },
  {
   "cell_type": "code",
   "execution_count": 40,
   "metadata": {
    "collapsed": true
   },
   "outputs": [],
   "source": [
    "logs['day'] = pd.to_numeric(logs['day'])"
   ]
  },
  {
   "cell_type": "code",
   "execution_count": 41,
   "metadata": {
    "collapsed": true
   },
   "outputs": [],
   "source": [
    "del logs['num_25']\n",
    "del logs['num_50']\n",
    "del logs['num_75']\n",
    "del logs['num_985']\n",
    "del logs['num_100']\n",
    "del logs['num_unq']\n",
    "del logs['log_count']"
   ]
  },
  {
   "cell_type": "code",
   "execution_count": 42,
   "metadata": {
    "collapsed": true
   },
   "outputs": [],
   "source": [
    "grouped = logs.groupby(['msno'])"
   ]
  },
  {
   "cell_type": "code",
   "execution_count": 43,
   "metadata": {},
   "outputs": [],
   "source": [
    "import pandas as pd\n",
    "from scipy.stats import linregress\n",
    "\n",
    "#test = grouped.apply(lambda x: linregress(x['date'], x['num_25']))\n",
    "\n",
    "test = (grouped.apply(lambda x: pd.Series(linregress(x['day'], x['log_total_songs'])))\n",
    "               .rename(columns={\n",
    "                        0: 'slope_total_songs',\n",
    "                        1: 'intercept',\n",
    "                        2: 'rvalue',\n",
    "                        3: 'pvalue',\n",
    "                        4: 'stderr'\n",
    "                      })\n",
    "       )"
   ]
  },
  {
   "cell_type": "code",
   "execution_count": 44,
   "metadata": {
    "collapsed": true
   },
   "outputs": [],
   "source": [
    "del test['intercept']\n",
    "del test['rvalue']\n",
    "del test['pvalue']\n",
    "del test['stderr']"
   ]
  },
  {
   "cell_type": "code",
   "execution_count": 45,
   "metadata": {
    "collapsed": true
   },
   "outputs": [],
   "source": [
    "logs = logs.merge(test, left_on='msno', right_index=True)"
   ]
  },
  {
   "cell_type": "code",
   "execution_count": 46,
   "metadata": {
    "collapsed": true
   },
   "outputs": [],
   "source": [
    "from scipy.stats import linregress\n",
    "\n",
    "test = (grouped.apply(lambda x: pd.Series(linregress(x['day'], x['total_secs'])))\n",
    "               .rename(columns={\n",
    "                        0: 'slope_total_secs',\n",
    "                        1: 'intercept',\n",
    "                        2: 'rvalue',\n",
    "                        3: 'pvalue',\n",
    "                        4: 'stderr'\n",
    "                      })\n",
    "       )\n",
    "\n",
    "del test['intercept']\n",
    "del test['rvalue']\n",
    "del test['pvalue']\n",
    "del test['stderr']\n",
    "\n",
    "logs = logs.merge(test, left_on='msno', right_index=True)"
   ]
  },
  {
   "cell_type": "code",
   "execution_count": 47,
   "metadata": {
    "collapsed": true
   },
   "outputs": [],
   "source": [
    "del logs['date']\n",
    "del logs['total_secs']\n",
    "del logs['log_total_songs']\n",
    "del logs['day']"
   ]
  },
  {
   "cell_type": "code",
   "execution_count": 48,
   "metadata": {},
   "outputs": [
    {
     "name": "stdout",
     "output_type": "stream",
     "text": [
      "<class 'pandas.core.frame.DataFrame'>\n",
      "Int64Index: 34220714 entries, 0 to 34220713\n",
      "Data columns (total 5 columns):\n",
      "msno                 object\n",
      "Unnamed: 0           int64\n",
      "march_total_secs     float64\n",
      "slope_total_songs    float64\n",
      "slope_total_secs     float64\n",
      "dtypes: float64(3), int64(1), object(1)\n",
      "memory usage: 1.5+ GB\n"
     ]
    }
   ],
   "source": [
    "logs.info()"
   ]
  },
  {
   "cell_type": "code",
   "execution_count": 49,
   "metadata": {},
   "outputs": [
    {
     "data": {
      "text/html": [
       "<div>\n",
       "<style>\n",
       "    .dataframe thead tr:only-child th {\n",
       "        text-align: right;\n",
       "    }\n",
       "\n",
       "    .dataframe thead th {\n",
       "        text-align: left;\n",
       "    }\n",
       "\n",
       "    .dataframe tbody tr th {\n",
       "        vertical-align: top;\n",
       "    }\n",
       "</style>\n",
       "<table border=\"1\" class=\"dataframe\">\n",
       "  <thead>\n",
       "    <tr style=\"text-align: right;\">\n",
       "      <th></th>\n",
       "      <th>msno</th>\n",
       "      <th>Unnamed: 0</th>\n",
       "      <th>march_total_secs</th>\n",
       "      <th>slope_total_songs</th>\n",
       "      <th>slope_total_secs</th>\n",
       "    </tr>\n",
       "  </thead>\n",
       "  <tbody>\n",
       "    <tr>\n",
       "      <th>0</th>\n",
       "      <td>+++IZseRRiQS9aaSkH6cMYU6bGDcxUieAi/tH67sC5s=</td>\n",
       "      <td>7571198</td>\n",
       "      <td>117907.425</td>\n",
       "      <td>-0.435484</td>\n",
       "      <td>-108.544635</td>\n",
       "    </tr>\n",
       "    <tr>\n",
       "      <th>31</th>\n",
       "      <td>+++hVY1rZox/33YtvDgmKA2Frg/2qhkz12B9ylCvh8o=</td>\n",
       "      <td>18132069</td>\n",
       "      <td>192527.892</td>\n",
       "      <td>0.525403</td>\n",
       "      <td>72.201869</td>\n",
       "    </tr>\n",
       "    <tr>\n",
       "      <th>62</th>\n",
       "      <td>+++l/EXNMLTijfLBa8p2TUVVVp2aFGSuUI/h7mLmthw=</td>\n",
       "      <td>12281371</td>\n",
       "      <td>115411.260</td>\n",
       "      <td>-0.561694</td>\n",
       "      <td>-112.093156</td>\n",
       "    </tr>\n",
       "    <tr>\n",
       "      <th>93</th>\n",
       "      <td>+++snpr7pmobhLKUgSHTv/mpkqgBT0tQJ0zQj6qKrqc=</td>\n",
       "      <td>0</td>\n",
       "      <td>0.000</td>\n",
       "      <td>-1.416532</td>\n",
       "      <td>-170.968851</td>\n",
       "    </tr>\n",
       "    <tr>\n",
       "      <th>124</th>\n",
       "      <td>++/9R3sX37CjxbY/AaGvbwr3QkwElKBCtSvVzhCBDOk=</td>\n",
       "      <td>7210127</td>\n",
       "      <td>116433.247</td>\n",
       "      <td>0.129839</td>\n",
       "      <td>22.269743</td>\n",
       "    </tr>\n",
       "    <tr>\n",
       "      <th>155</th>\n",
       "      <td>++/UDNo9DLrxT8QVGiDi1OnWfczAdEwThaVyD0fXO50=</td>\n",
       "      <td>8549578</td>\n",
       "      <td>36636.638</td>\n",
       "      <td>0.045565</td>\n",
       "      <td>-10.334583</td>\n",
       "    </tr>\n",
       "    <tr>\n",
       "      <th>186</th>\n",
       "      <td>++/ZHqwUNa7U21Qz+zqteiXlZapxey86l6eEorrak/g=</td>\n",
       "      <td>0</td>\n",
       "      <td>0.000</td>\n",
       "      <td>0.175403</td>\n",
       "      <td>31.643660</td>\n",
       "    </tr>\n",
       "    <tr>\n",
       "      <th>217</th>\n",
       "      <td>++0+IdHga8fCSioOVpU8K7y4Asw8AveIApVH2r9q9yY=</td>\n",
       "      <td>8254599</td>\n",
       "      <td>90177.554</td>\n",
       "      <td>-0.064113</td>\n",
       "      <td>-12.925371</td>\n",
       "    </tr>\n",
       "    <tr>\n",
       "      <th>248</th>\n",
       "      <td>++0/NopttBsaAn6qHZA2AWWrDg7Me7UOMs1vsyo4tSI=</td>\n",
       "      <td>0</td>\n",
       "      <td>0.000</td>\n",
       "      <td>-0.114919</td>\n",
       "      <td>-23.282766</td>\n",
       "    </tr>\n",
       "    <tr>\n",
       "      <th>279</th>\n",
       "      <td>++0BJXY8tpirgIhJR14LDM1pnaRosjD1mdO1mIKxlJA=</td>\n",
       "      <td>8341517</td>\n",
       "      <td>31788.296</td>\n",
       "      <td>0.328629</td>\n",
       "      <td>56.417626</td>\n",
       "    </tr>\n",
       "    <tr>\n",
       "      <th>310</th>\n",
       "      <td>++0EzISdtKY48Z0GY62jer/LFQwrNIAbADdtU5xStGY=</td>\n",
       "      <td>10105252</td>\n",
       "      <td>65936.728</td>\n",
       "      <td>-0.827823</td>\n",
       "      <td>-173.665771</td>\n",
       "    </tr>\n",
       "    <tr>\n",
       "      <th>341</th>\n",
       "      <td>++0d7elOGPXFeAuaDppOupFQa5ihSNTzHMNibE80qhI=</td>\n",
       "      <td>15172469</td>\n",
       "      <td>41434.319</td>\n",
       "      <td>-0.924597</td>\n",
       "      <td>-195.666891</td>\n",
       "    </tr>\n",
       "    <tr>\n",
       "      <th>372</th>\n",
       "      <td>++1G0wVY14Lp0VXak1ymLhPUdXPSFJVBnjWwzGxBKJs=</td>\n",
       "      <td>0</td>\n",
       "      <td>0.000</td>\n",
       "      <td>0.171774</td>\n",
       "      <td>33.637125</td>\n",
       "    </tr>\n",
       "    <tr>\n",
       "      <th>403</th>\n",
       "      <td>++1GCIyXZO7834NjDKmcK1lBVLQi9PsN6sOC7wfW+8g=</td>\n",
       "      <td>0</td>\n",
       "      <td>0.000</td>\n",
       "      <td>0.946774</td>\n",
       "      <td>233.946240</td>\n",
       "    </tr>\n",
       "    <tr>\n",
       "      <th>434</th>\n",
       "      <td>++38dVm0EHKCOfND6oEal3xFKtqJYZTZJmnpbAOOZBk=</td>\n",
       "      <td>0</td>\n",
       "      <td>0.000</td>\n",
       "      <td>0.102016</td>\n",
       "      <td>26.466269</td>\n",
       "    </tr>\n",
       "    <tr>\n",
       "      <th>465</th>\n",
       "      <td>++3A6JMzYJeron30GTcDostfXoAl8rTBuB2M8GeVdNU=</td>\n",
       "      <td>5136246</td>\n",
       "      <td>144511.667</td>\n",
       "      <td>0.127419</td>\n",
       "      <td>-27.343314</td>\n",
       "    </tr>\n",
       "    <tr>\n",
       "      <th>496</th>\n",
       "      <td>++3Z+W8OPnpbHYfrKwqRKN1bF83XEbxjdYUolhGdHZg=</td>\n",
       "      <td>5036010</td>\n",
       "      <td>103852.634</td>\n",
       "      <td>0.881855</td>\n",
       "      <td>137.424085</td>\n",
       "    </tr>\n",
       "    <tr>\n",
       "      <th>527</th>\n",
       "      <td>++3fWHRDC5GWWlovHcrOKWNwZYOjWWkJyeLlL65uv78=</td>\n",
       "      <td>860664</td>\n",
       "      <td>74125.226</td>\n",
       "      <td>-0.599597</td>\n",
       "      <td>-39.991296</td>\n",
       "    </tr>\n",
       "    <tr>\n",
       "      <th>558</th>\n",
       "      <td>++3r6znZW6KhVu+ihTk1wtnbIgadQP0zul/eXQvagVY=</td>\n",
       "      <td>0</td>\n",
       "      <td>0.000</td>\n",
       "      <td>0.075806</td>\n",
       "      <td>8.697347</td>\n",
       "    </tr>\n",
       "    <tr>\n",
       "      <th>589</th>\n",
       "      <td>++3wqX72HmowxFh5MrHvNi5Ce8D3ldo4zaUL932TYbs=</td>\n",
       "      <td>0</td>\n",
       "      <td>0.000</td>\n",
       "      <td>0.050806</td>\n",
       "      <td>7.681402</td>\n",
       "    </tr>\n",
       "    <tr>\n",
       "      <th>620</th>\n",
       "      <td>++4RuqBw0Ss6bQU4oMxaRlbBPoWzoEiIZaxPM04Y4+U=</td>\n",
       "      <td>0</td>\n",
       "      <td>0.000</td>\n",
       "      <td>0.019355</td>\n",
       "      <td>1.905106</td>\n",
       "    </tr>\n",
       "    <tr>\n",
       "      <th>651</th>\n",
       "      <td>++4YWSlKw9vXYEFQ1qrldiSvwW/rVVP+rhaxAUcT8sc=</td>\n",
       "      <td>6598167</td>\n",
       "      <td>123216.004</td>\n",
       "      <td>-0.622581</td>\n",
       "      <td>-104.825504</td>\n",
       "    </tr>\n",
       "    <tr>\n",
       "      <th>682</th>\n",
       "      <td>++4cUL0b9CfW8cj0A/wfSxQc4k4fcVtWcLqk2UOdpKs=</td>\n",
       "      <td>13154392</td>\n",
       "      <td>935559.230</td>\n",
       "      <td>0.819355</td>\n",
       "      <td>209.261131</td>\n",
       "    </tr>\n",
       "    <tr>\n",
       "      <th>713</th>\n",
       "      <td>++5BmBHS2ebe4Whfg/7KhGkj/sQ6rtNHsktLxsI01KE=</td>\n",
       "      <td>9808173</td>\n",
       "      <td>37018.614</td>\n",
       "      <td>-0.504839</td>\n",
       "      <td>-112.719891</td>\n",
       "    </tr>\n",
       "    <tr>\n",
       "      <th>744</th>\n",
       "      <td>++5HPICzApqAq9mYdGB/mdke0MbubM8yUKLOmrPt4xU=</td>\n",
       "      <td>0</td>\n",
       "      <td>0.000</td>\n",
       "      <td>-0.097984</td>\n",
       "      <td>-12.132853</td>\n",
       "    </tr>\n",
       "    <tr>\n",
       "      <th>775</th>\n",
       "      <td>++5mlb4AtOZw5nnVxVxDJYC6stwQwna3XELAXs4px44=</td>\n",
       "      <td>0</td>\n",
       "      <td>0.000</td>\n",
       "      <td>-0.110887</td>\n",
       "      <td>-23.482179</td>\n",
       "    </tr>\n",
       "    <tr>\n",
       "      <th>806</th>\n",
       "      <td>++5wYjoMgQHoRuD3GbbvmphZbBBwymzv5Q4l8sywtuU=</td>\n",
       "      <td>10087538</td>\n",
       "      <td>292650.977</td>\n",
       "      <td>-0.593952</td>\n",
       "      <td>181.018985</td>\n",
       "    </tr>\n",
       "    <tr>\n",
       "      <th>837</th>\n",
       "      <td>++60KS/9qGgIp/Lj9gERU7DH/5vKok+7GcJ3xccxBCI=</td>\n",
       "      <td>17942235</td>\n",
       "      <td>230427.576</td>\n",
       "      <td>0.996371</td>\n",
       "      <td>257.990981</td>\n",
       "    </tr>\n",
       "    <tr>\n",
       "      <th>868</th>\n",
       "      <td>++6P09mCSJSh+Ft2pvZ0FWTrtcI3v1A7h3/coh8dBKw=</td>\n",
       "      <td>0</td>\n",
       "      <td>0.000</td>\n",
       "      <td>0.008065</td>\n",
       "      <td>0.935350</td>\n",
       "    </tr>\n",
       "    <tr>\n",
       "      <th>899</th>\n",
       "      <td>++6eU4LsQ3UQ20ILS7d99XK8WbiVgbyYL4FUgzZR134=</td>\n",
       "      <td>10051694</td>\n",
       "      <td>110674.774</td>\n",
       "      <td>-0.676613</td>\n",
       "      <td>-150.344221</td>\n",
       "    </tr>\n",
       "    <tr>\n",
       "      <th>...</th>\n",
       "      <td>...</td>\n",
       "      <td>...</td>\n",
       "      <td>...</td>\n",
       "      <td>...</td>\n",
       "      <td>...</td>\n",
       "    </tr>\n",
       "    <tr>\n",
       "      <th>34219784</th>\n",
       "      <td>zzsIerQnY70zKAgAD1GSB89LFnfIxXwXO+FBJEyMbDo=</td>\n",
       "      <td>0</td>\n",
       "      <td>0.000</td>\n",
       "      <td>0.000806</td>\n",
       "      <td>3.401815</td>\n",
       "    </tr>\n",
       "    <tr>\n",
       "      <th>34219815</th>\n",
       "      <td>zzsusjoGJ6jH+qVF5cMfJGphBO7MR4P4P1rD7qxITX0=</td>\n",
       "      <td>17691103</td>\n",
       "      <td>591726.575</td>\n",
       "      <td>1.585484</td>\n",
       "      <td>322.060683</td>\n",
       "    </tr>\n",
       "    <tr>\n",
       "      <th>34219846</th>\n",
       "      <td>zzt4LinfZVgufjQc8MVgTz9CwxB9pJtNJDnk3d3F7Ac=</td>\n",
       "      <td>11008022</td>\n",
       "      <td>164669.198</td>\n",
       "      <td>0.605645</td>\n",
       "      <td>106.570207</td>\n",
       "    </tr>\n",
       "    <tr>\n",
       "      <th>34219877</th>\n",
       "      <td>zztRj67GpP0kdrpfKJ4X4bUrF+ljVCkR0K8cRDIbzRI=</td>\n",
       "      <td>0</td>\n",
       "      <td>0.000</td>\n",
       "      <td>-0.138710</td>\n",
       "      <td>-32.540948</td>\n",
       "    </tr>\n",
       "    <tr>\n",
       "      <th>34219908</th>\n",
       "      <td>zztb7cCNxnkeZ33rHQ0Z3cnshdE8gn/nwMTiNP49b4o=</td>\n",
       "      <td>6917942</td>\n",
       "      <td>556904.747</td>\n",
       "      <td>-0.897581</td>\n",
       "      <td>-197.091606</td>\n",
       "    </tr>\n",
       "    <tr>\n",
       "      <th>34219939</th>\n",
       "      <td>zztg1DNR0a6n+9+CXd8WAfNZHsl5VvyYC2ngeXlwpkc=</td>\n",
       "      <td>0</td>\n",
       "      <td>0.000</td>\n",
       "      <td>-0.920968</td>\n",
       "      <td>-206.232869</td>\n",
       "    </tr>\n",
       "    <tr>\n",
       "      <th>34219970</th>\n",
       "      <td>zzu6u0H6kxDzwhPY7KpdvV4CbMsjIbBVSM6fYXwTrE4=</td>\n",
       "      <td>0</td>\n",
       "      <td>0.000</td>\n",
       "      <td>-0.059274</td>\n",
       "      <td>-10.252446</td>\n",
       "    </tr>\n",
       "    <tr>\n",
       "      <th>34220001</th>\n",
       "      <td>zzuGxQfF86Zsx5nqF1Yh+oJpEIfdjFKKYpTqFZMdxzk=</td>\n",
       "      <td>0</td>\n",
       "      <td>0.000</td>\n",
       "      <td>0.051210</td>\n",
       "      <td>-1.218410</td>\n",
       "    </tr>\n",
       "    <tr>\n",
       "      <th>34220032</th>\n",
       "      <td>zzv/igs0VigNppe7WR8qgz1h6aXFFzQLu5paAswIbcQ=</td>\n",
       "      <td>0</td>\n",
       "      <td>0.000</td>\n",
       "      <td>-0.066532</td>\n",
       "      <td>-19.414609</td>\n",
       "    </tr>\n",
       "    <tr>\n",
       "      <th>34220063</th>\n",
       "      <td>zzv2n8+r3LGI4gFp6c4hpseYdfHrl829IY3IlA0BF4Q=</td>\n",
       "      <td>10686003</td>\n",
       "      <td>453540.670</td>\n",
       "      <td>1.395968</td>\n",
       "      <td>276.457423</td>\n",
       "    </tr>\n",
       "    <tr>\n",
       "      <th>34220094</th>\n",
       "      <td>zzvB5JRK4WBwtKJoNtnNF34r5dUAuenPpR9xrxdfMSI=</td>\n",
       "      <td>0</td>\n",
       "      <td>0.000</td>\n",
       "      <td>0.443952</td>\n",
       "      <td>108.491450</td>\n",
       "    </tr>\n",
       "    <tr>\n",
       "      <th>34220125</th>\n",
       "      <td>zzvRDIlZcYclP7ocM+wG1WUPbUHPtMRPKerl/hionLg=</td>\n",
       "      <td>0</td>\n",
       "      <td>0.000</td>\n",
       "      <td>0.295161</td>\n",
       "      <td>41.791217</td>\n",
       "    </tr>\n",
       "    <tr>\n",
       "      <th>34220156</th>\n",
       "      <td>zzvhQSh5Xs6/9DO+wUTtEbSZRBHjGIpHMOP2kVMrXmk=</td>\n",
       "      <td>0</td>\n",
       "      <td>0.000</td>\n",
       "      <td>0.602016</td>\n",
       "      <td>119.028700</td>\n",
       "    </tr>\n",
       "    <tr>\n",
       "      <th>34220187</th>\n",
       "      <td>zzvu4tofjH8jWZ4ubHaMr4K2AB7QARFwzJhcec3TxAU=</td>\n",
       "      <td>314942</td>\n",
       "      <td>313034.502</td>\n",
       "      <td>0.393145</td>\n",
       "      <td>76.358177</td>\n",
       "    </tr>\n",
       "    <tr>\n",
       "      <th>34220218</th>\n",
       "      <td>zzwX6rVmjqXmY1e49xsRk0f9WcK5gv6kSWV5bQ0qZqk=</td>\n",
       "      <td>0</td>\n",
       "      <td>0.000</td>\n",
       "      <td>2.936694</td>\n",
       "      <td>318.406940</td>\n",
       "    </tr>\n",
       "    <tr>\n",
       "      <th>34220249</th>\n",
       "      <td>zzwimfmJBJ4SrRw3bYXQzE9UrizlSE10yI7dHPvG5xM=</td>\n",
       "      <td>0</td>\n",
       "      <td>0.000</td>\n",
       "      <td>0.050806</td>\n",
       "      <td>11.372710</td>\n",
       "    </tr>\n",
       "    <tr>\n",
       "      <th>34220280</th>\n",
       "      <td>zzwlIVmSuehTevzOi+WkcC7b3+MBYDiE4qybszTyhII=</td>\n",
       "      <td>12484328</td>\n",
       "      <td>248376.637</td>\n",
       "      <td>-0.093952</td>\n",
       "      <td>13.939236</td>\n",
       "    </tr>\n",
       "    <tr>\n",
       "      <th>34220311</th>\n",
       "      <td>zzwsW1MnZalh6V5BwYE+V6hFWyKJYOf+rFd+SWVXxp8=</td>\n",
       "      <td>0</td>\n",
       "      <td>0.000</td>\n",
       "      <td>0.262500</td>\n",
       "      <td>45.127691</td>\n",
       "    </tr>\n",
       "    <tr>\n",
       "      <th>34220342</th>\n",
       "      <td>zzx1qgX8R9EmT8PAn4/KyQ6s7PuLYTfR8kUCABiCW9E=</td>\n",
       "      <td>0</td>\n",
       "      <td>0.000</td>\n",
       "      <td>-0.337903</td>\n",
       "      <td>-69.213264</td>\n",
       "    </tr>\n",
       "    <tr>\n",
       "      <th>34220373</th>\n",
       "      <td>zzx3CIwD26Wwa3Uxdmj848i6g6ctAc4TQtofdSP3JXw=</td>\n",
       "      <td>17639916</td>\n",
       "      <td>154086.152</td>\n",
       "      <td>0.358871</td>\n",
       "      <td>70.355796</td>\n",
       "    </tr>\n",
       "    <tr>\n",
       "      <th>34220404</th>\n",
       "      <td>zzx4hKiyR9XFEGAr7SAjcCPbKJCZ+IqegWL7dPjPwZk=</td>\n",
       "      <td>13478013</td>\n",
       "      <td>51394.898</td>\n",
       "      <td>-0.770565</td>\n",
       "      <td>-150.323006</td>\n",
       "    </tr>\n",
       "    <tr>\n",
       "      <th>34220435</th>\n",
       "      <td>zzxIjlrMxRzNVDD6XqUDRBqkWn7OJ9mzFmFQlfLtLCE=</td>\n",
       "      <td>0</td>\n",
       "      <td>0.000</td>\n",
       "      <td>0.058871</td>\n",
       "      <td>21.317121</td>\n",
       "    </tr>\n",
       "    <tr>\n",
       "      <th>34220466</th>\n",
       "      <td>zzxPS8+wCuE4HE85EDp4WBHgS5l548vfwXJbQq1HZ9I=</td>\n",
       "      <td>1161378</td>\n",
       "      <td>459237.837</td>\n",
       "      <td>-0.004032</td>\n",
       "      <td>-61.611133</td>\n",
       "    </tr>\n",
       "    <tr>\n",
       "      <th>34220497</th>\n",
       "      <td>zzxZeMFx2fjfKZigMnJa2w0EmloDbm8+8nTf/o/00GY=</td>\n",
       "      <td>0</td>\n",
       "      <td>0.000</td>\n",
       "      <td>-0.278226</td>\n",
       "      <td>-62.133063</td>\n",
       "    </tr>\n",
       "    <tr>\n",
       "      <th>34220528</th>\n",
       "      <td>zzy0oyiTnRTo5Mbg23oKbBkf9eoaS7+eU4V+d14bzfY=</td>\n",
       "      <td>2641007</td>\n",
       "      <td>599344.072</td>\n",
       "      <td>-4.949194</td>\n",
       "      <td>-1052.952060</td>\n",
       "    </tr>\n",
       "    <tr>\n",
       "      <th>34220559</th>\n",
       "      <td>zzy7iqSpfcRq7R4hmKKuhI+CJRs79a6pteqEggpiNO0=</td>\n",
       "      <td>13250696</td>\n",
       "      <td>268039.763</td>\n",
       "      <td>0.884274</td>\n",
       "      <td>176.431992</td>\n",
       "    </tr>\n",
       "    <tr>\n",
       "      <th>34220590</th>\n",
       "      <td>zzyHq6TK2+cBkeGFUHvh12Z7UxFZiSM7dOOSllSBPDw=</td>\n",
       "      <td>0</td>\n",
       "      <td>0.000</td>\n",
       "      <td>5.410081</td>\n",
       "      <td>1211.803552</td>\n",
       "    </tr>\n",
       "    <tr>\n",
       "      <th>34220621</th>\n",
       "      <td>zzz1Dc3P9s53HAowRTrm3fNsWju5yeN4YBfNDq7Z99Q=</td>\n",
       "      <td>18303738</td>\n",
       "      <td>60953.725</td>\n",
       "      <td>-0.429032</td>\n",
       "      <td>-85.238927</td>\n",
       "    </tr>\n",
       "    <tr>\n",
       "      <th>34220652</th>\n",
       "      <td>zzzF1KsGfHH3qI6qiSNSXC35UXmVKMVFdxkp7xmDMc0=</td>\n",
       "      <td>0</td>\n",
       "      <td>0.000</td>\n",
       "      <td>-0.156452</td>\n",
       "      <td>-28.570686</td>\n",
       "    </tr>\n",
       "    <tr>\n",
       "      <th>34220683</th>\n",
       "      <td>zzzueVTwIa5TjXnG2c77bohCVkuksqLkd5mQTP0wTwQ=</td>\n",
       "      <td>0</td>\n",
       "      <td>0.000</td>\n",
       "      <td>-0.015726</td>\n",
       "      <td>-1.218698</td>\n",
       "    </tr>\n",
       "  </tbody>\n",
       "</table>\n",
       "<p>1103894 rows × 5 columns</p>\n",
       "</div>"
      ],
      "text/plain": [
       "                                                  msno  Unnamed: 0  \\\n",
       "0         +++IZseRRiQS9aaSkH6cMYU6bGDcxUieAi/tH67sC5s=     7571198   \n",
       "31        +++hVY1rZox/33YtvDgmKA2Frg/2qhkz12B9ylCvh8o=    18132069   \n",
       "62        +++l/EXNMLTijfLBa8p2TUVVVp2aFGSuUI/h7mLmthw=    12281371   \n",
       "93        +++snpr7pmobhLKUgSHTv/mpkqgBT0tQJ0zQj6qKrqc=           0   \n",
       "124       ++/9R3sX37CjxbY/AaGvbwr3QkwElKBCtSvVzhCBDOk=     7210127   \n",
       "155       ++/UDNo9DLrxT8QVGiDi1OnWfczAdEwThaVyD0fXO50=     8549578   \n",
       "186       ++/ZHqwUNa7U21Qz+zqteiXlZapxey86l6eEorrak/g=           0   \n",
       "217       ++0+IdHga8fCSioOVpU8K7y4Asw8AveIApVH2r9q9yY=     8254599   \n",
       "248       ++0/NopttBsaAn6qHZA2AWWrDg7Me7UOMs1vsyo4tSI=           0   \n",
       "279       ++0BJXY8tpirgIhJR14LDM1pnaRosjD1mdO1mIKxlJA=     8341517   \n",
       "310       ++0EzISdtKY48Z0GY62jer/LFQwrNIAbADdtU5xStGY=    10105252   \n",
       "341       ++0d7elOGPXFeAuaDppOupFQa5ihSNTzHMNibE80qhI=    15172469   \n",
       "372       ++1G0wVY14Lp0VXak1ymLhPUdXPSFJVBnjWwzGxBKJs=           0   \n",
       "403       ++1GCIyXZO7834NjDKmcK1lBVLQi9PsN6sOC7wfW+8g=           0   \n",
       "434       ++38dVm0EHKCOfND6oEal3xFKtqJYZTZJmnpbAOOZBk=           0   \n",
       "465       ++3A6JMzYJeron30GTcDostfXoAl8rTBuB2M8GeVdNU=     5136246   \n",
       "496       ++3Z+W8OPnpbHYfrKwqRKN1bF83XEbxjdYUolhGdHZg=     5036010   \n",
       "527       ++3fWHRDC5GWWlovHcrOKWNwZYOjWWkJyeLlL65uv78=      860664   \n",
       "558       ++3r6znZW6KhVu+ihTk1wtnbIgadQP0zul/eXQvagVY=           0   \n",
       "589       ++3wqX72HmowxFh5MrHvNi5Ce8D3ldo4zaUL932TYbs=           0   \n",
       "620       ++4RuqBw0Ss6bQU4oMxaRlbBPoWzoEiIZaxPM04Y4+U=           0   \n",
       "651       ++4YWSlKw9vXYEFQ1qrldiSvwW/rVVP+rhaxAUcT8sc=     6598167   \n",
       "682       ++4cUL0b9CfW8cj0A/wfSxQc4k4fcVtWcLqk2UOdpKs=    13154392   \n",
       "713       ++5BmBHS2ebe4Whfg/7KhGkj/sQ6rtNHsktLxsI01KE=     9808173   \n",
       "744       ++5HPICzApqAq9mYdGB/mdke0MbubM8yUKLOmrPt4xU=           0   \n",
       "775       ++5mlb4AtOZw5nnVxVxDJYC6stwQwna3XELAXs4px44=           0   \n",
       "806       ++5wYjoMgQHoRuD3GbbvmphZbBBwymzv5Q4l8sywtuU=    10087538   \n",
       "837       ++60KS/9qGgIp/Lj9gERU7DH/5vKok+7GcJ3xccxBCI=    17942235   \n",
       "868       ++6P09mCSJSh+Ft2pvZ0FWTrtcI3v1A7h3/coh8dBKw=           0   \n",
       "899       ++6eU4LsQ3UQ20ILS7d99XK8WbiVgbyYL4FUgzZR134=    10051694   \n",
       "...                                                ...         ...   \n",
       "34219784  zzsIerQnY70zKAgAD1GSB89LFnfIxXwXO+FBJEyMbDo=           0   \n",
       "34219815  zzsusjoGJ6jH+qVF5cMfJGphBO7MR4P4P1rD7qxITX0=    17691103   \n",
       "34219846  zzt4LinfZVgufjQc8MVgTz9CwxB9pJtNJDnk3d3F7Ac=    11008022   \n",
       "34219877  zztRj67GpP0kdrpfKJ4X4bUrF+ljVCkR0K8cRDIbzRI=           0   \n",
       "34219908  zztb7cCNxnkeZ33rHQ0Z3cnshdE8gn/nwMTiNP49b4o=     6917942   \n",
       "34219939  zztg1DNR0a6n+9+CXd8WAfNZHsl5VvyYC2ngeXlwpkc=           0   \n",
       "34219970  zzu6u0H6kxDzwhPY7KpdvV4CbMsjIbBVSM6fYXwTrE4=           0   \n",
       "34220001  zzuGxQfF86Zsx5nqF1Yh+oJpEIfdjFKKYpTqFZMdxzk=           0   \n",
       "34220032  zzv/igs0VigNppe7WR8qgz1h6aXFFzQLu5paAswIbcQ=           0   \n",
       "34220063  zzv2n8+r3LGI4gFp6c4hpseYdfHrl829IY3IlA0BF4Q=    10686003   \n",
       "34220094  zzvB5JRK4WBwtKJoNtnNF34r5dUAuenPpR9xrxdfMSI=           0   \n",
       "34220125  zzvRDIlZcYclP7ocM+wG1WUPbUHPtMRPKerl/hionLg=           0   \n",
       "34220156  zzvhQSh5Xs6/9DO+wUTtEbSZRBHjGIpHMOP2kVMrXmk=           0   \n",
       "34220187  zzvu4tofjH8jWZ4ubHaMr4K2AB7QARFwzJhcec3TxAU=      314942   \n",
       "34220218  zzwX6rVmjqXmY1e49xsRk0f9WcK5gv6kSWV5bQ0qZqk=           0   \n",
       "34220249  zzwimfmJBJ4SrRw3bYXQzE9UrizlSE10yI7dHPvG5xM=           0   \n",
       "34220280  zzwlIVmSuehTevzOi+WkcC7b3+MBYDiE4qybszTyhII=    12484328   \n",
       "34220311  zzwsW1MnZalh6V5BwYE+V6hFWyKJYOf+rFd+SWVXxp8=           0   \n",
       "34220342  zzx1qgX8R9EmT8PAn4/KyQ6s7PuLYTfR8kUCABiCW9E=           0   \n",
       "34220373  zzx3CIwD26Wwa3Uxdmj848i6g6ctAc4TQtofdSP3JXw=    17639916   \n",
       "34220404  zzx4hKiyR9XFEGAr7SAjcCPbKJCZ+IqegWL7dPjPwZk=    13478013   \n",
       "34220435  zzxIjlrMxRzNVDD6XqUDRBqkWn7OJ9mzFmFQlfLtLCE=           0   \n",
       "34220466  zzxPS8+wCuE4HE85EDp4WBHgS5l548vfwXJbQq1HZ9I=     1161378   \n",
       "34220497  zzxZeMFx2fjfKZigMnJa2w0EmloDbm8+8nTf/o/00GY=           0   \n",
       "34220528  zzy0oyiTnRTo5Mbg23oKbBkf9eoaS7+eU4V+d14bzfY=     2641007   \n",
       "34220559  zzy7iqSpfcRq7R4hmKKuhI+CJRs79a6pteqEggpiNO0=    13250696   \n",
       "34220590  zzyHq6TK2+cBkeGFUHvh12Z7UxFZiSM7dOOSllSBPDw=           0   \n",
       "34220621  zzz1Dc3P9s53HAowRTrm3fNsWju5yeN4YBfNDq7Z99Q=    18303738   \n",
       "34220652  zzzF1KsGfHH3qI6qiSNSXC35UXmVKMVFdxkp7xmDMc0=           0   \n",
       "34220683  zzzueVTwIa5TjXnG2c77bohCVkuksqLkd5mQTP0wTwQ=           0   \n",
       "\n",
       "          march_total_secs  slope_total_songs  slope_total_secs  \n",
       "0               117907.425          -0.435484       -108.544635  \n",
       "31              192527.892           0.525403         72.201869  \n",
       "62              115411.260          -0.561694       -112.093156  \n",
       "93                   0.000          -1.416532       -170.968851  \n",
       "124             116433.247           0.129839         22.269743  \n",
       "155              36636.638           0.045565        -10.334583  \n",
       "186                  0.000           0.175403         31.643660  \n",
       "217              90177.554          -0.064113        -12.925371  \n",
       "248                  0.000          -0.114919        -23.282766  \n",
       "279              31788.296           0.328629         56.417626  \n",
       "310              65936.728          -0.827823       -173.665771  \n",
       "341              41434.319          -0.924597       -195.666891  \n",
       "372                  0.000           0.171774         33.637125  \n",
       "403                  0.000           0.946774        233.946240  \n",
       "434                  0.000           0.102016         26.466269  \n",
       "465             144511.667           0.127419        -27.343314  \n",
       "496             103852.634           0.881855        137.424085  \n",
       "527              74125.226          -0.599597        -39.991296  \n",
       "558                  0.000           0.075806          8.697347  \n",
       "589                  0.000           0.050806          7.681402  \n",
       "620                  0.000           0.019355          1.905106  \n",
       "651             123216.004          -0.622581       -104.825504  \n",
       "682             935559.230           0.819355        209.261131  \n",
       "713              37018.614          -0.504839       -112.719891  \n",
       "744                  0.000          -0.097984        -12.132853  \n",
       "775                  0.000          -0.110887        -23.482179  \n",
       "806             292650.977          -0.593952        181.018985  \n",
       "837             230427.576           0.996371        257.990981  \n",
       "868                  0.000           0.008065          0.935350  \n",
       "899             110674.774          -0.676613       -150.344221  \n",
       "...                    ...                ...               ...  \n",
       "34219784             0.000           0.000806          3.401815  \n",
       "34219815        591726.575           1.585484        322.060683  \n",
       "34219846        164669.198           0.605645        106.570207  \n",
       "34219877             0.000          -0.138710        -32.540948  \n",
       "34219908        556904.747          -0.897581       -197.091606  \n",
       "34219939             0.000          -0.920968       -206.232869  \n",
       "34219970             0.000          -0.059274        -10.252446  \n",
       "34220001             0.000           0.051210         -1.218410  \n",
       "34220032             0.000          -0.066532        -19.414609  \n",
       "34220063        453540.670           1.395968        276.457423  \n",
       "34220094             0.000           0.443952        108.491450  \n",
       "34220125             0.000           0.295161         41.791217  \n",
       "34220156             0.000           0.602016        119.028700  \n",
       "34220187        313034.502           0.393145         76.358177  \n",
       "34220218             0.000           2.936694        318.406940  \n",
       "34220249             0.000           0.050806         11.372710  \n",
       "34220280        248376.637          -0.093952         13.939236  \n",
       "34220311             0.000           0.262500         45.127691  \n",
       "34220342             0.000          -0.337903        -69.213264  \n",
       "34220373        154086.152           0.358871         70.355796  \n",
       "34220404         51394.898          -0.770565       -150.323006  \n",
       "34220435             0.000           0.058871         21.317121  \n",
       "34220466        459237.837          -0.004032        -61.611133  \n",
       "34220497             0.000          -0.278226        -62.133063  \n",
       "34220528        599344.072          -4.949194      -1052.952060  \n",
       "34220559        268039.763           0.884274        176.431992  \n",
       "34220590             0.000           5.410081       1211.803552  \n",
       "34220621         60953.725          -0.429032        -85.238927  \n",
       "34220652             0.000          -0.156452        -28.570686  \n",
       "34220683             0.000          -0.015726         -1.218698  \n",
       "\n",
       "[1103894 rows x 5 columns]"
      ]
     },
     "execution_count": 49,
     "metadata": {},
     "output_type": "execute_result"
    }
   ],
   "source": [
    "logs.drop_duplicates('msno')"
   ]
  },
  {
   "cell_type": "code",
   "execution_count": 55,
   "metadata": {},
   "outputs": [
    {
     "name": "stdout",
     "output_type": "stream",
     "text": [
      "<class 'pandas.core.frame.DataFrame'>\n",
      "Int64Index: 34220714 entries, 0 to 34220713\n",
      "Data columns (total 4 columns):\n",
      "msno                 object\n",
      "Unnamed: 0           int64\n",
      "slope_total_songs    float64\n",
      "slope_total_secs     float64\n",
      "dtypes: float64(2), int64(1), object(1)\n",
      "memory usage: 1.3+ GB\n"
     ]
    }
   ],
   "source": [
    "logs.info()"
   ]
  },
  {
   "cell_type": "code",
   "execution_count": 56,
   "metadata": {
    "collapsed": true
   },
   "outputs": [],
   "source": [
    "del logs['Unnamed: 0']"
   ]
  },
  {
   "cell_type": "code",
   "execution_count": 57,
   "metadata": {
    "collapsed": true
   },
   "outputs": [],
   "source": [
    "logs.to_csv('/Users/Pewelix/Documents/Data_Science/KKBox_Challenge/slopes.csv', index=False)"
   ]
  },
  {
   "cell_type": "code",
   "execution_count": 58,
   "metadata": {
    "collapsed": true
   },
   "outputs": [],
   "source": [
    "slopes_path = '/Users/Pewelix/Documents/Data_Science/KKBox_Challenge/slopes.csv'\n",
    "slopes = pd.read_csv(slopes_path)"
   ]
  },
  {
   "cell_type": "code",
   "execution_count": 59,
   "metadata": {},
   "outputs": [
    {
     "name": "stdout",
     "output_type": "stream",
     "text": [
      "<class 'pandas.core.frame.DataFrame'>\n",
      "RangeIndex: 34220714 entries, 0 to 34220713\n",
      "Data columns (total 3 columns):\n",
      "msno                 object\n",
      "slope_total_songs    float64\n",
      "slope_total_secs     float64\n",
      "dtypes: float64(2), object(1)\n",
      "memory usage: 783.3+ MB\n"
     ]
    }
   ],
   "source": [
    "slopes.info()"
   ]
  }
 ],
 "metadata": {
  "kernelspec": {
   "display_name": "Python 3",
   "language": "python",
   "name": "python3"
  },
  "language_info": {
   "codemirror_mode": {
    "name": "ipython",
    "version": 3
   },
   "file_extension": ".py",
   "mimetype": "text/x-python",
   "name": "python",
   "nbconvert_exporter": "python",
   "pygments_lexer": "ipython3",
   "version": "3.6.2"
  }
 },
 "nbformat": 4,
 "nbformat_minor": 2
}
